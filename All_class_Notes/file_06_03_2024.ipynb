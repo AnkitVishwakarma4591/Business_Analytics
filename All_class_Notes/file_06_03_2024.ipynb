{
  "nbformat": 4,
  "nbformat_minor": 0,
  "metadata": {
    "colab": {
      "provenance": []
    },
    "kernelspec": {
      "name": "python3",
      "display_name": "Python 3"
    },
    "language_info": {
      "name": "python"
    }
  },
  "cells": [
    {
      "cell_type": "code",
      "execution_count": null,
      "metadata": {
        "id": "-lF-jw7KUKsL"
      },
      "outputs": [],
      "source": [
        "# python basics\n",
        "# it provides extensive libraries like numpy,pandas,matplotliblib,seborn, sklearn"
      ]
    },
    {
      "cell_type": "code",
      "source": [
        "from google.colab import drive\n",
        "drive.mount('/content/drive')"
      ],
      "metadata": {
        "id": "GVTB00m6haqV"
      },
      "execution_count": null,
      "outputs": []
    },
    {
      "cell_type": "code",
      "source": [
        "#data\n",
        "#data clean\n",
        "#data noise free\n",
        "#data balanced\n",
        "#data preprocessing\n",
        "#numpy,pandas,matplotlib,seaborn\n",
        "#describe the data #descriptive analytics\n",
        "#explore (EDA)"
      ],
      "metadata": {
        "id": "78RVUn_fU5gf"
      },
      "execution_count": null,
      "outputs": []
    },
    {
      "cell_type": "code",
      "source": [
        "#python basics"
      ],
      "metadata": {
        "id": "rUebgU4cVaL0"
      },
      "execution_count": null,
      "outputs": []
    },
    {
      "cell_type": "code",
      "source": [
        "#python #open source"
      ],
      "metadata": {
        "id": "GEevb_jEVV_q"
      },
      "execution_count": null,
      "outputs": []
    },
    {
      "cell_type": "code",
      "source": [
        "#data\n",
        "#data store\n",
        "#variables"
      ],
      "metadata": {
        "id": "gqcrRlniVhH3"
      },
      "execution_count": null,
      "outputs": []
    },
    {
      "cell_type": "code",
      "source": [
        "#identifier name\n",
        "#alpha numeric\n",
        "\n",
        "a12 = 200\n"
      ],
      "metadata": {
        "id": "oQ8R4s3BVjmZ"
      },
      "execution_count": null,
      "outputs": []
    },
    {
      "cell_type": "code",
      "source": [
        "#name should always starts with alphabet\n",
        "b12a = 400"
      ],
      "metadata": {
        "id": "AOs0tM8YVv0g"
      },
      "execution_count": null,
      "outputs": []
    },
    {
      "cell_type": "code",
      "source": [
        "#variable name cannot start with numeric\n",
        "#not special character or white space is not allowed in the naming conventions of a variable"
      ],
      "metadata": {
        "id": "wSG6y0qBV1Ku"
      },
      "execution_count": null,
      "outputs": []
    },
    {
      "cell_type": "code",
      "source": [
        "12a = 400"
      ],
      "metadata": {
        "colab": {
          "base_uri": "https://localhost:8080/",
          "height": 106
        },
        "id": "1vCabEwYWJA1",
        "outputId": "697a1e86-7577-4c5a-fe85-d3120bd444d2"
      },
      "execution_count": null,
      "outputs": [
        {
          "output_type": "error",
          "ename": "SyntaxError",
          "evalue": "invalid decimal literal (<ipython-input-7-f46383944995>, line 1)",
          "traceback": [
            "\u001b[0;36m  File \u001b[0;32m\"<ipython-input-7-f46383944995>\"\u001b[0;36m, line \u001b[0;32m1\u001b[0m\n\u001b[0;31m    12a = 400\u001b[0m\n\u001b[0m     ^\u001b[0m\n\u001b[0;31mSyntaxError\u001b[0m\u001b[0;31m:\u001b[0m invalid decimal literal\n"
          ]
        }
      ]
    },
    {
      "cell_type": "code",
      "source": [
        "a$2 = 40"
      ],
      "metadata": {
        "colab": {
          "base_uri": "https://localhost:8080/",
          "height": 106
        },
        "id": "TMZl8a6VWKjZ",
        "outputId": "4e22cbbe-117e-44fd-9738-0e904ac0b21a"
      },
      "execution_count": null,
      "outputs": [
        {
          "output_type": "error",
          "ename": "SyntaxError",
          "evalue": "invalid syntax (<ipython-input-8-d55a3af21002>, line 1)",
          "traceback": [
            "\u001b[0;36m  File \u001b[0;32m\"<ipython-input-8-d55a3af21002>\"\u001b[0;36m, line \u001b[0;32m1\u001b[0m\n\u001b[0;31m    a$2 = 40\u001b[0m\n\u001b[0m     ^\u001b[0m\n\u001b[0;31mSyntaxError\u001b[0m\u001b[0;31m:\u001b[0m invalid syntax\n"
          ]
        }
      ]
    },
    {
      "cell_type": "code",
      "source": [
        "#underscore is allowed\n",
        "\n",
        "a_12 = 50"
      ],
      "metadata": {
        "id": "QUuQW7e1WOGe"
      },
      "execution_count": null,
      "outputs": []
    },
    {
      "cell_type": "code",
      "source": [
        "_12a = 60"
      ],
      "metadata": {
        "id": "1cYScYDsWR22"
      },
      "execution_count": null,
      "outputs": []
    },
    {
      "cell_type": "code",
      "source": [
        "#data types\n",
        "a = 10\n",
        "#defined a variable"
      ],
      "metadata": {
        "id": "k_yCrqszWUK5"
      },
      "execution_count": null,
      "outputs": []
    },
    {
      "cell_type": "code",
      "source": [
        "#in the other programming languages like java , c\n",
        "#we have to first declare the variable then we have to define"
      ],
      "metadata": {
        "id": "1fSsAkPHWlC9"
      },
      "execution_count": null,
      "outputs": []
    },
    {
      "cell_type": "code",
      "source": [
        "#to check the data type of a variable\n",
        "#inbuild functions\n",
        "type(a)"
      ],
      "metadata": {
        "colab": {
          "base_uri": "https://localhost:8080/"
        },
        "id": "7iFLC9PJW0uA",
        "outputId": "c572a177-3607-4931-cbed-69c5c5d97047"
      },
      "execution_count": null,
      "outputs": [
        {
          "output_type": "execute_result",
          "data": {
            "text/plain": [
              "int"
            ]
          },
          "metadata": {},
          "execution_count": 16
        }
      ]
    },
    {
      "cell_type": "code",
      "source": [
        "b = 10.2"
      ],
      "metadata": {
        "id": "D6qAedneXQwt"
      },
      "execution_count": null,
      "outputs": []
    },
    {
      "cell_type": "code",
      "source": [
        "type(b)"
      ],
      "metadata": {
        "colab": {
          "base_uri": "https://localhost:8080/"
        },
        "id": "zF_2UXxkXTYz",
        "outputId": "cb404c82-5f3c-41ed-8b62-7a0ed6e659aa"
      },
      "execution_count": null,
      "outputs": [
        {
          "output_type": "execute_result",
          "data": {
            "text/plain": [
              "float"
            ]
          },
          "metadata": {},
          "execution_count": 18
        }
      ]
    },
    {
      "cell_type": "code",
      "source": [
        "c = \"Prabhjot\""
      ],
      "metadata": {
        "id": "UuMeqtTbXU66"
      },
      "execution_count": null,
      "outputs": []
    },
    {
      "cell_type": "code",
      "source": [
        "type(c)"
      ],
      "metadata": {
        "colab": {
          "base_uri": "https://localhost:8080/"
        },
        "id": "GeXBvYo_XZzH",
        "outputId": "ee8e57f9-bc6e-41f5-81ca-605a9edb4de6"
      },
      "execution_count": null,
      "outputs": [
        {
          "output_type": "execute_result",
          "data": {
            "text/plain": [
              "str"
            ]
          },
          "metadata": {},
          "execution_count": 21
        }
      ]
    },
    {
      "cell_type": "code",
      "source": [
        "d = \"P\""
      ],
      "metadata": {
        "id": "oFewzahtXemG"
      },
      "execution_count": null,
      "outputs": []
    },
    {
      "cell_type": "code",
      "source": [
        "type(d)"
      ],
      "metadata": {
        "colab": {
          "base_uri": "https://localhost:8080/"
        },
        "id": "SZP_tePrXf5z",
        "outputId": "fb45a858-a675-4210-cfb2-28e3881670d7"
      },
      "execution_count": null,
      "outputs": [
        {
          "output_type": "execute_result",
          "data": {
            "text/plain": [
              "str"
            ]
          },
          "metadata": {},
          "execution_count": 24
        }
      ]
    },
    {
      "cell_type": "code",
      "source": [
        "e = True"
      ],
      "metadata": {
        "id": "WsVdyCJUXnl7"
      },
      "execution_count": null,
      "outputs": []
    },
    {
      "cell_type": "code",
      "source": [
        "type(e)"
      ],
      "metadata": {
        "colab": {
          "base_uri": "https://localhost:8080/"
        },
        "id": "NFWSCpFxXwg-",
        "outputId": "b70aead3-0734-43af-a751-a1d1e8ea811f"
      },
      "execution_count": null,
      "outputs": [
        {
          "output_type": "execute_result",
          "data": {
            "text/plain": [
              "bool"
            ]
          },
          "metadata": {},
          "execution_count": 27
        }
      ]
    },
    {
      "cell_type": "code",
      "source": [
        "#programming language\n",
        "#calculator on the computer?\n",
        "#application\n",
        "#programming language"
      ],
      "metadata": {
        "id": "H2htgeenX3T8"
      },
      "execution_count": null,
      "outputs": []
    },
    {
      "cell_type": "code",
      "source": [
        "#i have to command to the computer to do some task\n",
        "#machine langauage(low level)\n",
        "#humans high level language(english)\n",
        "#commands in human language\n",
        "#transalotor\n",
        "#compiler, interpreter\n",
        "#entire program compile in a single\n",
        "#interpreter , program bind but line by line"
      ],
      "metadata": {
        "id": "oRxsaz70YBjS"
      },
      "execution_count": null,
      "outputs": []
    },
    {
      "cell_type": "code",
      "source": [
        "g = \"ab123\""
      ],
      "metadata": {
        "id": "c59ppEJKYmxk"
      },
      "execution_count": null,
      "outputs": []
    },
    {
      "cell_type": "code",
      "source": [
        "type(g)"
      ],
      "metadata": {
        "colab": {
          "base_uri": "https://localhost:8080/"
        },
        "id": "Lrf6Q8DAYqWO",
        "outputId": "3982daa1-5cd2-4053-b681-771270753b47"
      },
      "execution_count": null,
      "outputs": [
        {
          "output_type": "execute_result",
          "data": {
            "text/plain": [
              "str"
            ]
          },
          "metadata": {},
          "execution_count": 31
        }
      ]
    },
    {
      "cell_type": "code",
      "source": [
        "#int,float,boolean,str"
      ],
      "metadata": {
        "id": "10WNYBX5YszB"
      },
      "execution_count": null,
      "outputs": []
    },
    {
      "cell_type": "code",
      "source": [
        "g = ab123"
      ],
      "metadata": {
        "colab": {
          "base_uri": "https://localhost:8080/",
          "height": 141
        },
        "id": "ha8LoW1qYv-i",
        "outputId": "7bffd0a2-dc5a-4916-9a6d-979ef37060a9"
      },
      "execution_count": null,
      "outputs": [
        {
          "output_type": "error",
          "ename": "NameError",
          "evalue": "name 'ab123' is not defined",
          "traceback": [
            "\u001b[0;31m---------------------------------------------------------------------------\u001b[0m",
            "\u001b[0;31mNameError\u001b[0m                                 Traceback (most recent call last)",
            "\u001b[0;32m<ipython-input-33-c7c650865962>\u001b[0m in \u001b[0;36m<cell line: 1>\u001b[0;34m()\u001b[0m\n\u001b[0;32m----> 1\u001b[0;31m \u001b[0mg\u001b[0m \u001b[0;34m=\u001b[0m \u001b[0mab123\u001b[0m\u001b[0;34m\u001b[0m\u001b[0;34m\u001b[0m\u001b[0m\n\u001b[0m",
            "\u001b[0;31mNameError\u001b[0m: name 'ab123' is not defined"
          ]
        }
      ]
    },
    {
      "cell_type": "code",
      "source": [
        "#boolean\n",
        "#true or false"
      ],
      "metadata": {
        "id": "gxfE3eyZY1F3"
      },
      "execution_count": null,
      "outputs": []
    },
    {
      "cell_type": "code",
      "source": [
        "h = True"
      ],
      "metadata": {
        "id": "Dx99aRsmY_FA"
      },
      "execution_count": null,
      "outputs": []
    },
    {
      "cell_type": "code",
      "source": [
        "type(h)"
      ],
      "metadata": {
        "colab": {
          "base_uri": "https://localhost:8080/"
        },
        "id": "aViwz-VMZAXl",
        "outputId": "2275183e-d958-41e9-c9e0-898553fb9243"
      },
      "execution_count": null,
      "outputs": [
        {
          "output_type": "execute_result",
          "data": {
            "text/plain": [
              "bool"
            ]
          },
          "metadata": {},
          "execution_count": 36
        }
      ]
    },
    {
      "cell_type": "code",
      "source": [
        "#print()\n",
        "#i am using a print function to print some data"
      ],
      "metadata": {
        "id": "E33L2fDqZB5C"
      },
      "execution_count": null,
      "outputs": []
    },
    {
      "cell_type": "code",
      "source": [
        "print(\"hello World\")"
      ],
      "metadata": {
        "colab": {
          "base_uri": "https://localhost:8080/"
        },
        "id": "Pn5Wve2_ZG1-",
        "outputId": "cf4a437a-7f17-47f7-c35b-f825c2368ba2"
      },
      "execution_count": null,
      "outputs": [
        {
          "output_type": "stream",
          "name": "stdout",
          "text": [
            "hello World\n"
          ]
        }
      ]
    },
    {
      "cell_type": "code",
      "source": [
        "k = None"
      ],
      "metadata": {
        "id": "Lt9uzXj9ZJJC"
      },
      "execution_count": null,
      "outputs": []
    },
    {
      "cell_type": "code",
      "source": [
        "type(k)"
      ],
      "metadata": {
        "colab": {
          "base_uri": "https://localhost:8080/"
        },
        "id": "e8yWIvBzZPwo",
        "outputId": "db7395e4-69ea-4921-f14b-7b1048de230d"
      },
      "execution_count": null,
      "outputs": [
        {
          "output_type": "execute_result",
          "data": {
            "text/plain": [
              "NoneType"
            ]
          },
          "metadata": {},
          "execution_count": 40
        }
      ]
    },
    {
      "cell_type": "code",
      "source": [
        "#complex data\n",
        "#complex numbers real numbers\n",
        "l = 10+1j"
      ],
      "metadata": {
        "id": "rh-ylVbBZRRV"
      },
      "execution_count": null,
      "outputs": []
    },
    {
      "cell_type": "code",
      "source": [
        "type(l)"
      ],
      "metadata": {
        "colab": {
          "base_uri": "https://localhost:8080/"
        },
        "id": "lkuhkfLqZd0M",
        "outputId": "c66ba60f-db8f-47e1-8a76-db42340bfa0d"
      },
      "execution_count": null,
      "outputs": [
        {
          "output_type": "execute_result",
          "data": {
            "text/plain": [
              "complex"
            ]
          },
          "metadata": {},
          "execution_count": 43
        }
      ]
    },
    {
      "cell_type": "code",
      "source": [
        "#a number is odd or even"
      ],
      "metadata": {
        "id": "QUGEZyA6ZoKC"
      },
      "execution_count": null,
      "outputs": []
    },
    {
      "cell_type": "code",
      "source": [
        "a = 10\n",
        "#i have to check\n",
        "#we require a condition\n",
        "#in python to use the condition we use if else conditions"
      ],
      "metadata": {
        "id": "5SuVNxM1Zshr"
      },
      "execution_count": null,
      "outputs": []
    },
    {
      "cell_type": "code",
      "source": [
        "#programming in python\n",
        "#indentation is very important\n",
        "#spacing\n",
        "\n",
        "a=10\n",
        "b=20\n",
        "c=a+b\n",
        "print(c)"
      ],
      "metadata": {
        "colab": {
          "base_uri": "https://localhost:8080/"
        },
        "id": "Axbj9KiuaGHV",
        "outputId": "19d624ee-1134-45dc-8ae2-3592464b6aac"
      },
      "execution_count": null,
      "outputs": [
        {
          "output_type": "stream",
          "name": "stdout",
          "text": [
            "30\n"
          ]
        }
      ]
    },
    {
      "cell_type": "code",
      "source": [
        "#we have introduced conditions\n",
        "#odd or even\n",
        "#type casting or type conversion\n",
        "a = int(input(\"Enter the number\"))\n",
        "if(a%2==0):\n",
        "  print(\"even\")\n",
        "else:\n",
        "  print(\"odd\")"
      ],
      "metadata": {
        "colab": {
          "base_uri": "https://localhost:8080/"
        },
        "id": "LcVS01qObChj",
        "outputId": "cb6ed93d-0fe2-4ebe-bd4b-be3c225d467e"
      },
      "execution_count": null,
      "outputs": [
        {
          "output_type": "stream",
          "name": "stdout",
          "text": [
            "even\n"
          ]
        }
      ]
    },
    {
      "cell_type": "code",
      "source": [
        "b = int(input(\"Enter the number\"))"
      ],
      "metadata": {
        "colab": {
          "base_uri": "https://localhost:8080/"
        },
        "id": "-xY3Cb41cMWL",
        "outputId": "ef9a8db5-caf3-450a-b928-5620e925544e"
      },
      "execution_count": null,
      "outputs": [
        {
          "name": "stdout",
          "output_type": "stream",
          "text": [
            "Enter the number10\n"
          ]
        }
      ]
    },
    {
      "cell_type": "code",
      "source": [
        "type(b)"
      ],
      "metadata": {
        "colab": {
          "base_uri": "https://localhost:8080/"
        },
        "id": "5Vj3HKrbcNNu",
        "outputId": "80ae6da2-be2d-4a22-cb84-82145d0d4463"
      },
      "execution_count": null,
      "outputs": [
        {
          "output_type": "execute_result",
          "data": {
            "text/plain": [
              "int"
            ]
          },
          "metadata": {},
          "execution_count": 53
        }
      ]
    },
    {
      "cell_type": "code",
      "source": [
        "#data\n",
        "#different data type\n",
        "#data we have to perform some operations"
      ],
      "metadata": {
        "id": "fq_AyjHMc68H"
      },
      "execution_count": null,
      "outputs": []
    },
    {
      "cell_type": "code",
      "source": [
        "#we require operators\n",
        "#a+b\n",
        "#a, b are operands\n",
        "#+ is the operator\n",
        "print(10+20)\n",
        "print(20-10)\n",
        "print(40*2)\n",
        "print(20/2)#division(float)\n",
        "print(20//2)#floor divison\n",
        "print(10**2)\n",
        "print(10%2)\n",
        "#airtmetic operators"
      ],
      "metadata": {
        "colab": {
          "base_uri": "https://localhost:8080/"
        },
        "id": "OyidEP8_dBJ_",
        "outputId": "c85aca80-ac07-4b5c-d426-68d6638c08ce"
      },
      "execution_count": null,
      "outputs": [
        {
          "output_type": "stream",
          "name": "stdout",
          "text": [
            "30\n",
            "10\n",
            "80\n",
            "10.0\n",
            "10\n",
            "100\n",
            "0\n"
          ]
        }
      ]
    },
    {
      "cell_type": "code",
      "source": [
        "#assignment operators\n",
        "#used to assign a value\n",
        "a=10"
      ],
      "metadata": {
        "id": "HK-j57SldX0G"
      },
      "execution_count": null,
      "outputs": []
    },
    {
      "cell_type": "code",
      "source": [
        "a = a+10"
      ],
      "metadata": {
        "id": "-TPc2krId84q"
      },
      "execution_count": null,
      "outputs": []
    },
    {
      "cell_type": "code",
      "source": [
        "print(a)"
      ],
      "metadata": {
        "colab": {
          "base_uri": "https://localhost:8080/"
        },
        "id": "ZeeMX2PheFgY",
        "outputId": "d6c5e690-f4b8-446b-a64a-c721f58fa86e"
      },
      "execution_count": null,
      "outputs": [
        {
          "output_type": "stream",
          "name": "stdout",
          "text": [
            "20\n"
          ]
        }
      ]
    },
    {
      "cell_type": "code",
      "source": [
        "a += 30\n",
        "#similar to a= a+30"
      ],
      "metadata": {
        "id": "eAVeVE_UeIqY"
      },
      "execution_count": null,
      "outputs": []
    },
    {
      "cell_type": "code",
      "source": [
        "print(a)"
      ],
      "metadata": {
        "colab": {
          "base_uri": "https://localhost:8080/"
        },
        "id": "v6yWvI2feNRT",
        "outputId": "7f002c56-bec9-496a-ed68-bff71dd254f8"
      },
      "execution_count": null,
      "outputs": [
        {
          "output_type": "stream",
          "name": "stdout",
          "text": [
            "50\n"
          ]
        }
      ]
    },
    {
      "cell_type": "code",
      "source": [
        "a -= 4\n",
        "#a = a-4"
      ],
      "metadata": {
        "id": "6Ysn8Xz-dHkF"
      },
      "execution_count": null,
      "outputs": []
    },
    {
      "cell_type": "code",
      "source": [
        "print(a)"
      ],
      "metadata": {
        "colab": {
          "base_uri": "https://localhost:8080/"
        },
        "id": "8YRo_yLVeS0M",
        "outputId": "bdde533c-b245-40cf-8710-abf7bf790fb5"
      },
      "execution_count": null,
      "outputs": [
        {
          "output_type": "stream",
          "name": "stdout",
          "text": [
            "46\n"
          ]
        }
      ]
    },
    {
      "cell_type": "code",
      "source": [
        "#a*=3\n",
        "#a/=4\n",
        "#a//=4"
      ],
      "metadata": {
        "id": "IqaGyioEeXu-"
      },
      "execution_count": null,
      "outputs": []
    },
    {
      "cell_type": "code",
      "source": [
        "#comparison operators\n",
        "#used to compare\n"
      ],
      "metadata": {
        "id": "rb5nu_kwecWW"
      },
      "execution_count": null,
      "outputs": []
    },
    {
      "cell_type": "code",
      "source": [
        "a= 30"
      ],
      "metadata": {
        "id": "pr9b578xejtl"
      },
      "execution_count": null,
      "outputs": []
    },
    {
      "cell_type": "code",
      "source": [
        "b = 30"
      ],
      "metadata": {
        "id": "6C7nhQ0WekiF"
      },
      "execution_count": null,
      "outputs": []
    },
    {
      "cell_type": "code",
      "source": [
        "print(a==b)"
      ],
      "metadata": {
        "colab": {
          "base_uri": "https://localhost:8080/"
        },
        "id": "1-MM6VmBeloF",
        "outputId": "52cb6658-ca3e-4bb2-c168-bd9f74d5ab48"
      },
      "execution_count": null,
      "outputs": [
        {
          "output_type": "stream",
          "name": "stdout",
          "text": [
            "True\n"
          ]
        }
      ]
    },
    {
      "cell_type": "code",
      "source": [
        "print(10>3)"
      ],
      "metadata": {
        "colab": {
          "base_uri": "https://localhost:8080/"
        },
        "id": "_OG_WcrkelDl",
        "outputId": "db183ae2-e686-4bc3-a78f-e8f85acddf19"
      },
      "execution_count": null,
      "outputs": [
        {
          "output_type": "stream",
          "name": "stdout",
          "text": [
            "True\n"
          ]
        }
      ]
    },
    {
      "cell_type": "code",
      "source": [
        "print(10<=10)"
      ],
      "metadata": {
        "colab": {
          "base_uri": "https://localhost:8080/"
        },
        "id": "-3IgHJVmew3Y",
        "outputId": "8aeed3f5-2893-4395-ac04-37edbdaf5e3c"
      },
      "execution_count": null,
      "outputs": [
        {
          "output_type": "stream",
          "name": "stdout",
          "text": [
            "True\n"
          ]
        }
      ]
    },
    {
      "cell_type": "code",
      "source": [
        "print(4<4)"
      ],
      "metadata": {
        "colab": {
          "base_uri": "https://localhost:8080/"
        },
        "id": "w6fwf0Mpe1U_",
        "outputId": "b6fe9195-ed95-4bba-8c63-9fcad8f89c1a"
      },
      "execution_count": null,
      "outputs": [
        {
          "output_type": "stream",
          "name": "stdout",
          "text": [
            "False\n"
          ]
        }
      ]
    },
    {
      "cell_type": "code",
      "source": [
        "print(20>=30)"
      ],
      "metadata": {
        "colab": {
          "base_uri": "https://localhost:8080/"
        },
        "id": "dXd5VJiQe8jU",
        "outputId": "ddd2980e-d973-4c60-c90c-eb025bbd243c"
      },
      "execution_count": null,
      "outputs": [
        {
          "output_type": "stream",
          "name": "stdout",
          "text": [
            "False\n"
          ]
        }
      ]
    },
    {
      "cell_type": "code",
      "source": [
        "#airthmetic,assignment,comparison\n",
        "#data types\n",
        "#variables\n",
        "#naming conventions\n",
        "#type(),input(),type casting\n",
        "#odd even"
      ],
      "metadata": {
        "id": "-soRim2sfWnP"
      },
      "execution_count": null,
      "outputs": []
    },
    {
      "cell_type": "code",
      "source": [
        "#if i have to store multiple values in a single variables\n",
        "#list,tuple,dictionary,set"
      ],
      "metadata": {
        "id": "ciXXKdJifmOw"
      },
      "execution_count": null,
      "outputs": []
    },
    {
      "cell_type": "code",
      "source": [
        "a = 10.2"
      ],
      "metadata": {
        "id": "jhHuwQa9f-Oa"
      },
      "execution_count": null,
      "outputs": []
    },
    {
      "cell_type": "code",
      "source": [
        "a = int(10.2)"
      ],
      "metadata": {
        "id": "2ycFHccZgBL9"
      },
      "execution_count": null,
      "outputs": []
    },
    {
      "cell_type": "code",
      "source": [
        "a"
      ],
      "metadata": {
        "id": "py-Z7lbVgHL_",
        "outputId": "d64c9fb9-b412-434c-86e4-2643e6979db7",
        "colab": {
          "base_uri": "https://localhost:8080/"
        }
      },
      "execution_count": null,
      "outputs": [
        {
          "output_type": "execute_result",
          "data": {
            "text/plain": [
              "10"
            ]
          },
          "metadata": {},
          "execution_count": 80
        }
      ]
    },
    {
      "cell_type": "code",
      "source": [],
      "metadata": {
        "id": "vFEqGLk4gHzm"
      },
      "execution_count": null,
      "outputs": []
    }
  ]
}