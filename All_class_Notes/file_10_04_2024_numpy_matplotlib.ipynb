{
 "cells": [
  {
   "cell_type": "code",
   "execution_count": 1,
   "id": "b8f627a7-ec2e-4c70-ae7c-b02872b87b9d",
   "metadata": {
    "tags": []
   },
   "outputs": [],
   "source": [
    "#numpy arrays\n",
    "#to store multiple data in a array\n",
    "#collection of homogenous data\n",
    "#numpy arrays are much faster than list,tuple,dictionary or set"
   ]
  },
  {
   "cell_type": "code",
   "execution_count": 2,
   "id": "9af382bc-3f87-4752-93df-b5015eaf2815",
   "metadata": {
    "tags": []
   },
   "outputs": [],
   "source": [
    "#how to create a numpy array"
   ]
  },
  {
   "cell_type": "code",
   "execution_count": 3,
   "id": "9ed67100-72f3-4043-b673-06666e4aca03",
   "metadata": {
    "tags": []
   },
   "outputs": [],
   "source": [
    "import numpy as np"
   ]
  },
  {
   "cell_type": "code",
   "execution_count": 6,
   "id": "d436981a-7d83-43ff-ab44-cf2acc71764b",
   "metadata": {
    "tags": []
   },
   "outputs": [],
   "source": [
    "var = np.array([1,2,3,4,5])"
   ]
  },
  {
   "cell_type": "code",
   "execution_count": 7,
   "id": "e164e087-d492-4469-8005-502abdeca027",
   "metadata": {
    "tags": []
   },
   "outputs": [
    {
     "data": {
      "text/plain": [
       "numpy.ndarray"
      ]
     },
     "execution_count": 7,
     "metadata": {},
     "output_type": "execute_result"
    }
   ],
   "source": [
    "type(var)"
   ]
  },
  {
   "cell_type": "code",
   "execution_count": 9,
   "id": "085ee6d2-c41a-4252-8ea8-c7b073111b7c",
   "metadata": {
    "tags": []
   },
   "outputs": [
    {
     "name": "stdout",
     "output_type": "stream",
     "text": [
      "[1 2 3 4 5]\n"
     ]
    }
   ],
   "source": [
    "print(var)"
   ]
  },
  {
   "cell_type": "code",
   "execution_count": 10,
   "id": "c3deea4a-5965-4303-a4eb-0bb2228b74c9",
   "metadata": {
    "tags": []
   },
   "outputs": [
    {
     "data": {
      "text/plain": [
       "array([1., 2., 3., 4., 5.])"
      ]
     },
     "execution_count": 10,
     "metadata": {},
     "output_type": "execute_result"
    }
   ],
   "source": [
    "np.array([1,2,3,4,5],dtype=float)"
   ]
  },
  {
   "cell_type": "code",
   "execution_count": 11,
   "id": "fa649003-64cb-459c-bdb0-f8786bb307b5",
   "metadata": {
    "tags": []
   },
   "outputs": [
    {
     "data": {
      "text/plain": [
       "array(['1', '2', '3', '4', '5'], dtype='<U1')"
      ]
     },
     "execution_count": 11,
     "metadata": {},
     "output_type": "execute_result"
    }
   ],
   "source": [
    "np.array([1,2,3,4,5],dtype=str)"
   ]
  },
  {
   "cell_type": "code",
   "execution_count": 12,
   "id": "15f67c49-f26e-4a40-916e-41c97097b82c",
   "metadata": {
    "tags": []
   },
   "outputs": [],
   "source": [
    "#access the element of a numpy array"
   ]
  },
  {
   "cell_type": "code",
   "execution_count": 13,
   "id": "25237f08-484e-431b-a066-e767c183632a",
   "metadata": {
    "tags": []
   },
   "outputs": [
    {
     "data": {
      "text/plain": [
       "array([1, 2, 3, 4, 5])"
      ]
     },
     "execution_count": 13,
     "metadata": {},
     "output_type": "execute_result"
    }
   ],
   "source": [
    "var"
   ]
  },
  {
   "cell_type": "code",
   "execution_count": 14,
   "id": "919644d1-bee5-4203-b865-3591eddf1b0f",
   "metadata": {
    "tags": []
   },
   "outputs": [
    {
     "data": {
      "text/plain": [
       "1"
      ]
     },
     "execution_count": 14,
     "metadata": {},
     "output_type": "execute_result"
    }
   ],
   "source": [
    "var[0]"
   ]
  },
  {
   "cell_type": "code",
   "execution_count": 15,
   "id": "d504f876-3286-4a99-9c06-b2874f0e02f0",
   "metadata": {
    "tags": []
   },
   "outputs": [
    {
     "data": {
      "text/plain": [
       "2"
      ]
     },
     "execution_count": 15,
     "metadata": {},
     "output_type": "execute_result"
    }
   ],
   "source": [
    "var[1]"
   ]
  },
  {
   "cell_type": "code",
   "execution_count": 16,
   "id": "9076d43f-60be-4d2f-a56f-acb1e9699648",
   "metadata": {
    "tags": []
   },
   "outputs": [
    {
     "name": "stdout",
     "output_type": "stream",
     "text": [
      "1\n",
      "2\n",
      "3\n",
      "4\n",
      "5\n"
     ]
    }
   ],
   "source": [
    "for i in range(0,len(var)):\n",
    "    print(var[i])"
   ]
  },
  {
   "cell_type": "code",
   "execution_count": 17,
   "id": "cb286ad7-39da-4d59-b418-a466fa7000f2",
   "metadata": {
    "tags": []
   },
   "outputs": [
    {
     "name": "stdout",
     "output_type": "stream",
     "text": [
      "1\n",
      "2\n",
      "3\n",
      "4\n",
      "5\n"
     ]
    }
   ],
   "source": [
    "for i in var:\n",
    "    print(i)"
   ]
  },
  {
   "cell_type": "code",
   "execution_count": 18,
   "id": "4f0b70f5-6d9d-4cd0-aba5-50d40ba457fb",
   "metadata": {
    "tags": []
   },
   "outputs": [],
   "source": [
    "#multidimensional"
   ]
  },
  {
   "cell_type": "code",
   "execution_count": 20,
   "id": "bbf1b209-cefc-4f49-9ecb-47670a3130cf",
   "metadata": {
    "tags": []
   },
   "outputs": [],
   "source": [
    "var1 = np.array([[1,2,3],[4,5,6],[7,8,9]])"
   ]
  },
  {
   "cell_type": "code",
   "execution_count": 21,
   "id": "d34af5e0-148f-4821-8a94-a0471f1ef6f9",
   "metadata": {
    "tags": []
   },
   "outputs": [
    {
     "data": {
      "text/plain": [
       "array([[1, 2, 3],\n",
       "       [4, 5, 6],\n",
       "       [7, 8, 9]])"
      ]
     },
     "execution_count": 21,
     "metadata": {},
     "output_type": "execute_result"
    }
   ],
   "source": [
    "var1"
   ]
  },
  {
   "cell_type": "code",
   "execution_count": 22,
   "id": "6bec0f27-60ae-437d-ab6f-a709ea6832e1",
   "metadata": {
    "tags": []
   },
   "outputs": [
    {
     "data": {
      "text/plain": [
       "(3, 3)"
      ]
     },
     "execution_count": 22,
     "metadata": {},
     "output_type": "execute_result"
    }
   ],
   "source": [
    "var1.shape"
   ]
  },
  {
   "cell_type": "code",
   "execution_count": 24,
   "id": "dae741ae-95bc-40d7-ad4f-87f9f952b328",
   "metadata": {
    "tags": []
   },
   "outputs": [
    {
     "data": {
      "text/plain": [
       "array([2, 3, 4])"
      ]
     },
     "execution_count": 24,
     "metadata": {},
     "output_type": "execute_result"
    }
   ],
   "source": [
    "var[1:4]"
   ]
  },
  {
   "cell_type": "code",
   "execution_count": 26,
   "id": "d43f4ffd-bcd0-43d0-8c5b-dc19360ac6e6",
   "metadata": {
    "tags": []
   },
   "outputs": [
    {
     "data": {
      "text/plain": [
       "array([5, 6])"
      ]
     },
     "execution_count": 26,
     "metadata": {},
     "output_type": "execute_result"
    }
   ],
   "source": [
    "var1[1,1:3]"
   ]
  },
  {
   "cell_type": "code",
   "execution_count": 28,
   "id": "897d83ee-29e6-4547-8b85-654c37186671",
   "metadata": {
    "tags": []
   },
   "outputs": [
    {
     "data": {
      "text/plain": [
       "array([[4, 5],\n",
       "       [7, 8]])"
      ]
     },
     "execution_count": 28,
     "metadata": {},
     "output_type": "execute_result"
    }
   ],
   "source": [
    "var1[1:3,0:2]"
   ]
  },
  {
   "cell_type": "code",
   "execution_count": 29,
   "id": "b4952937-a496-470d-a486-67f957b189de",
   "metadata": {
    "tags": []
   },
   "outputs": [],
   "source": [
    "#functions/methods in numpy"
   ]
  },
  {
   "cell_type": "code",
   "execution_count": 31,
   "id": "25f4d784-773e-421b-afb2-5f63f5abf5af",
   "metadata": {
    "tags": []
   },
   "outputs": [],
   "source": [
    "var2 = np.array([1,2,3,4,5,6,7,8,9])"
   ]
  },
  {
   "cell_type": "code",
   "execution_count": 33,
   "id": "efb77aaf-db23-446a-a486-348ec3a8130c",
   "metadata": {
    "tags": []
   },
   "outputs": [
    {
     "data": {
      "text/plain": [
       "array([[1, 2, 3],\n",
       "       [4, 5, 6],\n",
       "       [7, 8, 9]])"
      ]
     },
     "execution_count": 33,
     "metadata": {},
     "output_type": "execute_result"
    }
   ],
   "source": [
    "var2.reshape(3,3)"
   ]
  },
  {
   "cell_type": "code",
   "execution_count": 35,
   "id": "82e0768c-4cfd-43ab-b49e-fa210eb0768a",
   "metadata": {
    "tags": []
   },
   "outputs": [],
   "source": [
    "var3 = np.array([1,2,3,4,5,6,7,8])"
   ]
  },
  {
   "cell_type": "code",
   "execution_count": 36,
   "id": "2d9c31e5-6f43-40a5-a35f-49ad6b57d5d8",
   "metadata": {
    "tags": []
   },
   "outputs": [
    {
     "data": {
      "text/plain": [
       "array([[1, 2, 3, 4],\n",
       "       [5, 6, 7, 8]])"
      ]
     },
     "execution_count": 36,
     "metadata": {},
     "output_type": "execute_result"
    }
   ],
   "source": [
    "var3.reshape(2,4)"
   ]
  },
  {
   "cell_type": "code",
   "execution_count": 37,
   "id": "c7a88d83-4c14-4cd5-aa73-a9438e9256b5",
   "metadata": {
    "tags": []
   },
   "outputs": [
    {
     "data": {
      "text/plain": [
       "array([[1, 2],\n",
       "       [3, 4],\n",
       "       [5, 6],\n",
       "       [7, 8]])"
      ]
     },
     "execution_count": 37,
     "metadata": {},
     "output_type": "execute_result"
    }
   ],
   "source": [
    "var3.reshape(4,2)"
   ]
  },
  {
   "cell_type": "code",
   "execution_count": 41,
   "id": "4992a311-45bf-4c51-a1bd-1bd8029dcf6e",
   "metadata": {
    "tags": []
   },
   "outputs": [
    {
     "data": {
      "text/plain": [
       "array([0, 0, 0, 0, 0])"
      ]
     },
     "execution_count": 41,
     "metadata": {},
     "output_type": "execute_result"
    }
   ],
   "source": [
    "#numpy of size 50 and all the elements are 0\n",
    "var4 = np.zeros(5,dtype=int)\n",
    "var4"
   ]
  },
  {
   "cell_type": "code",
   "execution_count": 42,
   "id": "894be6a4-157d-4901-9e81-449e0a3336a7",
   "metadata": {
    "tags": []
   },
   "outputs": [
    {
     "data": {
      "text/plain": [
       "array([[0, 0, 0],\n",
       "       [0, 0, 0],\n",
       "       [0, 0, 0]])"
      ]
     },
     "execution_count": 42,
     "metadata": {},
     "output_type": "execute_result"
    }
   ],
   "source": [
    "var4 = np.zeros((3,3),dtype=int)\n",
    "var4"
   ]
  },
  {
   "cell_type": "code",
   "execution_count": 43,
   "id": "61d07224-16ab-4e68-9606-8c8a4c5bd02d",
   "metadata": {
    "tags": []
   },
   "outputs": [
    {
     "data": {
      "text/plain": [
       "array([[1, 1, 1],\n",
       "       [1, 1, 1],\n",
       "       [1, 1, 1]])"
      ]
     },
     "execution_count": 43,
     "metadata": {},
     "output_type": "execute_result"
    }
   ],
   "source": [
    "#numpy of size 50 and all the elements are 1\n",
    "var5 = np.ones((3,3),dtype=int)\n",
    "var5"
   ]
  },
  {
   "cell_type": "code",
   "execution_count": 44,
   "id": "eb5a3331-15ce-4735-9cad-70ffbc05e9a7",
   "metadata": {
    "tags": []
   },
   "outputs": [
    {
     "data": {
      "text/plain": [
       "array([10, 10, 10, 10, 10])"
      ]
     },
     "execution_count": 44,
     "metadata": {},
     "output_type": "execute_result"
    }
   ],
   "source": [
    "np.full(5,10,dtype=int)"
   ]
  },
  {
   "cell_type": "code",
   "execution_count": 45,
   "id": "d9d2bf93-f960-4522-9138-b699a5cedd32",
   "metadata": {
    "tags": []
   },
   "outputs": [
    {
     "data": {
      "text/plain": [
       "array([[10, 10, 10, 10, 10],\n",
       "       [10, 10, 10, 10, 10],\n",
       "       [10, 10, 10, 10, 10],\n",
       "       [10, 10, 10, 10, 10],\n",
       "       [10, 10, 10, 10, 10]])"
      ]
     },
     "execution_count": 45,
     "metadata": {},
     "output_type": "execute_result"
    }
   ],
   "source": [
    "np.full((5,5),10,dtype=int)"
   ]
  },
  {
   "cell_type": "code",
   "execution_count": 46,
   "id": "1504ce61-7975-4b0b-8848-f27768fa0d9a",
   "metadata": {
    "tags": []
   },
   "outputs": [],
   "source": [
    "#create a numpy from 1 to 100"
   ]
  },
  {
   "cell_type": "code",
   "execution_count": 48,
   "id": "791a49e6-7a72-42f4-850b-c4a01def5718",
   "metadata": {
    "tags": []
   },
   "outputs": [
    {
     "data": {
      "text/plain": [
       "array([  1,   2,   3,   4,   5,   6,   7,   8,   9,  10,  11,  12,  13,\n",
       "        14,  15,  16,  17,  18,  19,  20,  21,  22,  23,  24,  25,  26,\n",
       "        27,  28,  29,  30,  31,  32,  33,  34,  35,  36,  37,  38,  39,\n",
       "        40,  41,  42,  43,  44,  45,  46,  47,  48,  49,  50,  51,  52,\n",
       "        53,  54,  55,  56,  57,  58,  59,  60,  61,  62,  63,  64,  65,\n",
       "        66,  67,  68,  69,  70,  71,  72,  73,  74,  75,  76,  77,  78,\n",
       "        79,  80,  81,  82,  83,  84,  85,  86,  87,  88,  89,  90,  91,\n",
       "        92,  93,  94,  95,  96,  97,  98,  99, 100])"
      ]
     },
     "execution_count": 48,
     "metadata": {},
     "output_type": "execute_result"
    }
   ],
   "source": [
    "np.arange(1,101,1)"
   ]
  },
  {
   "cell_type": "code",
   "execution_count": 49,
   "id": "ac10df73-04d3-48b3-bf3b-179a36d221cd",
   "metadata": {
    "tags": []
   },
   "outputs": [
    {
     "data": {
      "text/plain": [
       "array([ 1,  3,  5,  7,  9, 11, 13, 15, 17, 19, 21, 23, 25, 27, 29, 31, 33,\n",
       "       35, 37, 39, 41, 43, 45, 47, 49, 51, 53, 55, 57, 59, 61, 63, 65, 67,\n",
       "       69, 71, 73, 75, 77, 79, 81, 83, 85, 87, 89, 91, 93, 95, 97, 99])"
      ]
     },
     "execution_count": 49,
     "metadata": {},
     "output_type": "execute_result"
    }
   ],
   "source": [
    "np.arange(1,101,2)"
   ]
  },
  {
   "cell_type": "code",
   "execution_count": 50,
   "id": "d85674d6-2fc7-4c12-ab86-96f073409e84",
   "metadata": {
    "tags": []
   },
   "outputs": [
    {
     "data": {
      "text/plain": [
       "array([  2,   4,   6,   8,  10,  12,  14,  16,  18,  20,  22,  24,  26,\n",
       "        28,  30,  32,  34,  36,  38,  40,  42,  44,  46,  48,  50,  52,\n",
       "        54,  56,  58,  60,  62,  64,  66,  68,  70,  72,  74,  76,  78,\n",
       "        80,  82,  84,  86,  88,  90,  92,  94,  96,  98, 100])"
      ]
     },
     "execution_count": 50,
     "metadata": {},
     "output_type": "execute_result"
    }
   ],
   "source": [
    "np.arange(2,101,2)"
   ]
  },
  {
   "cell_type": "code",
   "execution_count": 51,
   "id": "2570bb58-86f7-443c-9b4f-13d13e013ba0",
   "metadata": {
    "tags": []
   },
   "outputs": [
    {
     "data": {
      "text/plain": [
       "array([ 0,  2,  4,  6,  8, 10])"
      ]
     },
     "execution_count": 51,
     "metadata": {},
     "output_type": "execute_result"
    }
   ],
   "source": [
    "# rope 1 to 10 m\n",
    "#5 parts \n",
    "#cut\n",
    "np.arange(0,11,2)"
   ]
  },
  {
   "cell_type": "code",
   "execution_count": 55,
   "id": "267578ec-1246-49e4-b980-860ad64c7c72",
   "metadata": {
    "tags": []
   },
   "outputs": [
    {
     "data": {
      "text/plain": [
       "array([0, 2, 4, 6, 8])"
      ]
     },
     "execution_count": 55,
     "metadata": {},
     "output_type": "execute_result"
    }
   ],
   "source": [
    "np.linspace(0,11,5,endpoint=False,dtype=int)"
   ]
  },
  {
   "cell_type": "code",
   "execution_count": 64,
   "id": "dcf97f18-a750-44d9-9fea-49b07d8f73ab",
   "metadata": {
    "tags": []
   },
   "outputs": [
    {
     "data": {
      "text/plain": [
       "array([[1, 0, 0],\n",
       "       [0, 1, 0],\n",
       "       [0, 0, 1]])"
      ]
     },
     "execution_count": 64,
     "metadata": {},
     "output_type": "execute_result"
    }
   ],
   "source": [
    "#identity matrix\n",
    "np.identity(3,dtype=int)"
   ]
  },
  {
   "cell_type": "code",
   "execution_count": 63,
   "id": "c25d48e0-dc63-4bb5-83ba-76c65d610db1",
   "metadata": {
    "tags": []
   },
   "outputs": [
    {
     "data": {
      "text/plain": [
       "array([[1, 0, 0, 0],\n",
       "       [0, 1, 0, 0],\n",
       "       [0, 0, 1, 0]])"
      ]
     },
     "execution_count": 63,
     "metadata": {},
     "output_type": "execute_result"
    }
   ],
   "source": [
    "np.eye(3,4,dtype=int)"
   ]
  },
  {
   "cell_type": "code",
   "execution_count": 65,
   "id": "454f6448-521f-4e70-b407-8ddecc3150ae",
   "metadata": {
    "tags": []
   },
   "outputs": [
    {
     "data": {
      "text/plain": [
       "array([0.15856804, 0.09777648, 0.55295691, 0.50944899, 0.59034746,\n",
       "       0.00131661, 0.81374446, 0.92669776, 0.63949834, 0.08752061])"
      ]
     },
     "execution_count": 65,
     "metadata": {},
     "output_type": "execute_result"
    }
   ],
   "source": [
    "#random numbers generate\n",
    "np.random.rand(10)"
   ]
  },
  {
   "cell_type": "code",
   "execution_count": 66,
   "id": "99dba048-66fe-4bbc-8cc8-88f3a04f7bd7",
   "metadata": {
    "tags": []
   },
   "outputs": [
    {
     "data": {
      "text/plain": [
       "array([[0.9795545 , 0.46509789, 0.52444789, 0.80106089],\n",
       "       [0.18171609, 0.11875476, 0.18889902, 0.08540443],\n",
       "       [0.65063907, 0.1518468 , 0.41266474, 0.24587776],\n",
       "       [0.20048473, 0.83070757, 0.06086826, 0.0470947 ]])"
      ]
     },
     "execution_count": 66,
     "metadata": {},
     "output_type": "execute_result"
    }
   ],
   "source": [
    "np.random.rand(4,4)"
   ]
  },
  {
   "cell_type": "code",
   "execution_count": 67,
   "id": "27bdf63f-8112-424e-8b4a-4fa0e3894047",
   "metadata": {
    "tags": []
   },
   "outputs": [
    {
     "data": {
      "text/plain": [
       "array([4, 3, 4, 6, 9])"
      ]
     },
     "execution_count": 67,
     "metadata": {},
     "output_type": "execute_result"
    }
   ],
   "source": [
    "#random numbers to be generated in a given range\n",
    "np.random.randint(1,10,5,dtype=int)"
   ]
  },
  {
   "cell_type": "code",
   "execution_count": 70,
   "id": "757a0df8-c801-4ccf-a41f-2a3d75ce7e30",
   "metadata": {
    "tags": []
   },
   "outputs": [
    {
     "data": {
      "text/plain": [
       "array([[19, 18, 24],\n",
       "       [12, 16, 12],\n",
       "       [23, 12, 21]])"
      ]
     },
     "execution_count": 70,
     "metadata": {},
     "output_type": "execute_result"
    }
   ],
   "source": [
    "np.random.randint(12,25,(3,3),dtype=int)"
   ]
  },
  {
   "cell_type": "code",
   "execution_count": 71,
   "id": "9ca18097-1f8e-4a80-91ba-8b12036cd3fa",
   "metadata": {
    "tags": []
   },
   "outputs": [],
   "source": [
    "#boolean array\n",
    "height = np.array([140,155,160,148,157])\n",
    "weight = np.array([70,80,56,75,68])"
   ]
  },
  {
   "cell_type": "code",
   "execution_count": 75,
   "id": "d9e1f443-5c7d-421a-b27d-480906e59e43",
   "metadata": {
    "tags": []
   },
   "outputs": [
    {
     "data": {
      "text/plain": [
       "array([155])"
      ]
     },
     "execution_count": 75,
     "metadata": {},
     "output_type": "execute_result"
    }
   ],
   "source": [
    "height[weight>75]"
   ]
  },
  {
   "cell_type": "code",
   "execution_count": 77,
   "id": "73303ad6-d999-4c1b-ab6f-d561fe9336cd",
   "metadata": {
    "tags": []
   },
   "outputs": [
    {
     "data": {
      "text/plain": [
       "array([155])"
      ]
     },
     "execution_count": 77,
     "metadata": {},
     "output_type": "execute_result"
    }
   ],
   "source": [
    "#2nd method\n",
    "index = np.where(weight>75)\n",
    "height[index]"
   ]
  },
  {
   "cell_type": "code",
   "execution_count": 78,
   "id": "ffaba2c8-09c6-40ee-b516-88e68a99e7bb",
   "metadata": {
    "tags": []
   },
   "outputs": [],
   "source": [
    "#operations"
   ]
  },
  {
   "cell_type": "code",
   "execution_count": 88,
   "id": "ac8f73b4-d222-4939-8b90-823a96e6e520",
   "metadata": {
    "tags": []
   },
   "outputs": [
    {
     "name": "stdout",
     "output_type": "stream",
     "text": [
      "3\n",
      "4\n",
      "5\n",
      "6\n",
      "7\n"
     ]
    }
   ],
   "source": [
    "l1 = [1,2,3,4,5]\n",
    "for i in l1:\n",
    "    print(i+2)"
   ]
  },
  {
   "cell_type": "code",
   "execution_count": 90,
   "id": "70383717-7765-4299-9a7c-1a64281cf0c7",
   "metadata": {
    "tags": []
   },
   "outputs": [
    {
     "data": {
      "text/plain": [
       "array([3, 4, 5, 6, 7])"
      ]
     },
     "execution_count": 90,
     "metadata": {},
     "output_type": "execute_result"
    }
   ],
   "source": [
    "var+2"
   ]
  },
  {
   "cell_type": "code",
   "execution_count": 93,
   "id": "d723ac19-03e5-4aea-92c1-5c547b22206e",
   "metadata": {
    "tags": []
   },
   "outputs": [
    {
     "data": {
      "text/plain": [
       "array([ 3,  6,  9, 12, 15])"
      ]
     },
     "execution_count": 93,
     "metadata": {},
     "output_type": "execute_result"
    }
   ],
   "source": [
    "var*3"
   ]
  },
  {
   "cell_type": "code",
   "execution_count": 95,
   "id": "09599ba0-1d66-4591-b5a2-07833f403350",
   "metadata": {
    "tags": []
   },
   "outputs": [
    {
     "data": {
      "text/plain": [
       "array([0, 1, 1, 2, 2], dtype=int32)"
      ]
     },
     "execution_count": 95,
     "metadata": {},
     "output_type": "execute_result"
    }
   ],
   "source": [
    "var//2"
   ]
  },
  {
   "cell_type": "code",
   "execution_count": 97,
   "id": "43bff96a-3111-488e-bd8a-b13d8b2612fa",
   "metadata": {
    "tags": []
   },
   "outputs": [
    {
     "data": {
      "text/plain": [
       "array([[ 2,  4,  6],\n",
       "       [ 8, 10, 12],\n",
       "       [14, 16, 18]])"
      ]
     },
     "execution_count": 97,
     "metadata": {},
     "output_type": "execute_result"
    }
   ],
   "source": [
    "var1+var1"
   ]
  },
  {
   "cell_type": "code",
   "execution_count": 98,
   "id": "01eadc78-d7c8-4192-a479-12d798608871",
   "metadata": {
    "tags": []
   },
   "outputs": [],
   "source": [
    "#what are numpy arrays\n",
    "#purpose of using it\n",
    "#functions/methods\n",
    "#how to access the numpy arrays\n",
    "#operations on numpy arrays"
   ]
  },
  {
   "cell_type": "code",
   "execution_count": 99,
   "id": "b058b9bd-57e0-4af5-add2-1a4f78c894e3",
   "metadata": {
    "tags": []
   },
   "outputs": [],
   "source": [
    "#matplotlib"
   ]
  },
  {
   "cell_type": "code",
   "execution_count": null,
   "id": "04d3ae5b-1f3c-444e-bb95-5ec0b072832c",
   "metadata": {},
   "outputs": [],
   "source": []
  },
  {
   "cell_type": "code",
   "execution_count": null,
   "id": "0674fdd1-ed9e-4724-a228-36b515661b19",
   "metadata": {},
   "outputs": [],
   "source": []
  },
  {
   "cell_type": "code",
   "execution_count": null,
   "id": "95f22989-8c17-4154-a6bb-f07171f924a7",
   "metadata": {},
   "outputs": [],
   "source": []
  }
 ],
 "metadata": {
  "kernelspec": {
   "display_name": "Python 3 (ipykernel)",
   "language": "python",
   "name": "python3"
  },
  "language_info": {
   "codemirror_mode": {
    "name": "ipython",
    "version": 3
   },
   "file_extension": ".py",
   "mimetype": "text/x-python",
   "name": "python",
   "nbconvert_exporter": "python",
   "pygments_lexer": "ipython3",
   "version": "3.11.4"
  }
 },
 "nbformat": 4,
 "nbformat_minor": 5
}
