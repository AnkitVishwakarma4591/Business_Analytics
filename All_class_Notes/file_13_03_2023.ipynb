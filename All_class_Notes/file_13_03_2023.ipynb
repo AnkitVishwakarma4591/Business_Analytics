{
 "cells": [
  {
   "cell_type": "code",
   "execution_count": 1,
   "id": "28e013e5-7fcd-4860-880c-fef65200d889",
   "metadata": {
    "tags": []
   },
   "outputs": [],
   "source": [
    "#control statments\n",
    "#flow \n",
    "#goto statements\n",
    "#continue,break,pass\n",
    "#lists data types"
   ]
  },
  {
   "cell_type": "code",
   "execution_count": 2,
   "id": "95f76f27-f1bd-4408-aeaf-e0a172eb1100",
   "metadata": {
    "tags": []
   },
   "outputs": [],
   "source": [
    "#for loops\n",
    "#while loops"
   ]
  },
  {
   "cell_type": "code",
   "execution_count": 3,
   "id": "206d83fb-b756-4a0c-9ed2-b5341d48d812",
   "metadata": {
    "tags": []
   },
   "outputs": [],
   "source": [
    "#decision statements\n",
    "#if\n",
    "#if else(two conditions)\n",
    "#elif (more than 2 conditions)"
   ]
  },
  {
   "cell_type": "code",
   "execution_count": 4,
   "id": "550df7df-81c4-4263-b620-9a377894d97c",
   "metadata": {
    "tags": []
   },
   "outputs": [],
   "source": [
    "#data range 1 to 100\n",
    "#print all the elements in the given which are divisible by 5"
   ]
  },
  {
   "cell_type": "code",
   "execution_count": 10,
   "id": "10a414cc-0c9f-4043-b15e-4df7e04e9766",
   "metadata": {
    "tags": []
   },
   "outputs": [
    {
     "name": "stdout",
     "output_type": "stream",
     "text": [
      "5 10 15 20 25 30 35 40 45 50 55 60 65 70 75 80 85 90 95 100 "
     ]
    }
   ],
   "source": [
    "#1 conditions , number is divisible by 5\n",
    "for i in range(1,101,1):\n",
    "    if(i%5==0):\n",
    "        print(i,end=\" \")"
   ]
  },
  {
   "cell_type": "code",
   "execution_count": 14,
   "id": "993f194c-bc39-4778-a08f-074456ecc9e8",
   "metadata": {
    "tags": []
   },
   "outputs": [
    {
     "name": "stdout",
     "output_type": "stream",
     "text": [
      "1 odd 2 even 3 odd 4 even 5 odd 6 even 7 odd 8 even 9 odd 10 even 11 odd 12 even 13 odd 14 even 15 odd 16 even 17 odd 18 even 19 odd 20 even 21 odd 22 even 23 odd 24 even 25 odd 26 even 27 odd 28 even 29 odd 30 even 31 odd 32 even 33 odd 34 even 35 odd 36 even 37 odd 38 even 39 odd 40 even 41 odd 42 even 43 odd 44 even 45 odd 46 even 47 odd 48 even 49 odd 50 even 51 odd 52 even 53 odd 54 even 55 odd 56 even 57 odd 58 even 59 odd 60 even 61 odd 62 even 63 odd 64 even 65 odd 66 even 67 odd 68 even 69 odd 70 even 71 odd 72 even 73 odd 74 even 75 odd 76 even 77 odd 78 even 79 odd 80 even 81 odd 82 even 83 odd 84 even 85 odd 86 even 87 odd 88 even 89 odd 90 even 91 odd 92 even 93 odd 94 even 95 odd 96 even 97 odd 98 even 99 odd 100 even "
     ]
    }
   ],
   "source": [
    "#1 to 100\n",
    "#even and odd\n",
    "for i in range(1,101,1):\n",
    "    if i%2 == 0:\n",
    "        print(i,\"even\",end=\" \")\n",
    "    else:\n",
    "        print(i,\"odd\",end=\" \")"
   ]
  },
  {
   "cell_type": "code",
   "execution_count": 15,
   "id": "053b5821-cc75-42f6-aada-e5620e22301d",
   "metadata": {
    "tags": []
   },
   "outputs": [],
   "source": [
    "#grading system\n",
    "#marks > 90 - A+\n",
    "#marks >80 and <90 - A\n",
    "#70-80 - B+\n",
    "#60-70 - B\n",
    "#50-60 - C+\n",
    "#40-50 - C\n",
    "#30-40 - D\n",
    "#<30 - E(Fail)\n",
    "#and operator or & operator"
   ]
  },
  {
   "cell_type": "code",
   "execution_count": 18,
   "id": "857844b1-07b7-488c-9158-34bc5017afcb",
   "metadata": {
    "tags": []
   },
   "outputs": [
    {
     "name": "stdin",
     "output_type": "stream",
     "text": [
      "Enter the marks 45\n"
     ]
    },
    {
     "name": "stdout",
     "output_type": "stream",
     "text": [
      "The grade is C\n"
     ]
    }
   ],
   "source": [
    "marks = int(input(\"Enter the marks\"))\n",
    "if(marks>90):\n",
    "    print(\"The grade is A+\")\n",
    "elif(marks>80 and marks<=90):\n",
    "    print(\"The grade is A\")\n",
    "elif(marks>70 and marks<=80):\n",
    "    print(\"The grade is B+\")\n",
    "elif(marks>60 and marks<=70):\n",
    "    print(\"The grade is B\")\n",
    "elif(marks>50 and marks<=60):\n",
    "    print(\"The grade is C+\")\n",
    "elif(marks>40 and marks<=50):\n",
    "    print(\"The grade is C\")\n",
    "elif(marks>30 and marks<=40):\n",
    "    print(\"The grade is D\")\n",
    "else:\n",
    "    print(\"The grade is E\")"
   ]
  },
  {
   "cell_type": "code",
   "execution_count": 19,
   "id": "c1eb11da-deb7-4811-8d9e-bc463d343f37",
   "metadata": {
    "tags": []
   },
   "outputs": [],
   "source": [
    "#break,continue and pass"
   ]
  },
  {
   "cell_type": "code",
   "execution_count": 22,
   "id": "43b79571-fd94-4876-ab2f-2eee8258af26",
   "metadata": {
    "tags": []
   },
   "outputs": [],
   "source": [
    "for i in range(1,101,1):\n",
    "    #statements\n",
    "    pass"
   ]
  },
  {
   "cell_type": "code",
   "execution_count": 30,
   "id": "881581fd-80f6-4149-baec-05ced853668e",
   "metadata": {
    "tags": []
   },
   "outputs": [
    {
     "name": "stdin",
     "output_type": "stream",
     "text": [
      "Enter the element 3\n"
     ]
    },
    {
     "name": "stdout",
     "output_type": "stream",
     "text": [
      "The element not found\n",
      "The element not found\n",
      "The elements found in the given range 3\n"
     ]
    }
   ],
   "source": [
    "#search\n",
    "#comparison operator ==\n",
    "#assuming that data is in ascending order and not reptitive\n",
    "item = int(input(\"Enter the element\"))\n",
    "for i in range(1,10,1):\n",
    "    if(item==i):\n",
    "        print(\"The elements found in the given range\",i)\n",
    "        break;\n",
    "    else:\n",
    "        print(\"The element not found\")"
   ]
  },
  {
   "cell_type": "code",
   "execution_count": 31,
   "id": "8a55397c-3f14-4a9a-a978-84a6d751a55d",
   "metadata": {
    "tags": []
   },
   "outputs": [
    {
     "name": "stdin",
     "output_type": "stream",
     "text": [
      "Enter the element 4\n"
     ]
    },
    {
     "name": "stdout",
     "output_type": "stream",
     "text": [
      "Element found\n"
     ]
    }
   ],
   "source": [
    "#search\n",
    "#comparison operator ==\n",
    "#assuming that data is in ascending order and not reptitive\n",
    "#flag\n",
    "item = int(input(\"Enter the element\"))\n",
    "flag = False\n",
    "for i in range(1,10,1):\n",
    "    if(item==i):\n",
    "        flag = True\n",
    "        break;\n",
    "if flag == True:\n",
    "    print(\"Element found\")\n",
    "else:\n",
    "    print(\"Element not found\")"
   ]
  },
  {
   "cell_type": "code",
   "execution_count": 32,
   "id": "395b0040-d4e0-40ea-9968-27003b0f0a5e",
   "metadata": {
    "tags": []
   },
   "outputs": [
    {
     "name": "stdout",
     "output_type": "stream",
     "text": [
      "1\n",
      "2\n",
      "3\n",
      "4\n",
      "5\n",
      "6\n"
     ]
    }
   ],
   "source": [
    "for i in range(1,20,1):\n",
    "    print(i)\n",
    "    if(i==6):\n",
    "        break;"
   ]
  },
  {
   "cell_type": "code",
   "execution_count": 34,
   "id": "482be1a1-eb31-4e44-9fd8-59a707076ffa",
   "metadata": {
    "tags": []
   },
   "outputs": [
    {
     "name": "stdout",
     "output_type": "stream",
     "text": [
      "1\n",
      "2\n",
      "3\n",
      "4\n",
      "5\n"
     ]
    }
   ],
   "source": [
    "for i in range(1,20,1):\n",
    "    if(i==6):\n",
    "        break;\n",
    "    print(i)"
   ]
  },
  {
   "cell_type": "code",
   "execution_count": 36,
   "id": "afbdfb21-2c46-4cd4-959d-77fe565e8bf9",
   "metadata": {
    "tags": []
   },
   "outputs": [
    {
     "name": "stdout",
     "output_type": "stream",
     "text": [
      "1\n",
      "2\n",
      "4\n",
      "5\n",
      "6\n",
      "7\n",
      "8\n",
      "9\n"
     ]
    }
   ],
   "source": [
    "#continue\n",
    "#when we want to skip a statement\n",
    "for i in range(1,10,1):\n",
    "    if(i==3):\n",
    "        continue;\n",
    "    print(i)"
   ]
  },
  {
   "cell_type": "code",
   "execution_count": 37,
   "id": "088f8b46-b084-4142-9f0f-ed17b6c86ec6",
   "metadata": {
    "tags": []
   },
   "outputs": [],
   "source": [
    "#variables we were able to store only one element at a particular time"
   ]
  },
  {
   "cell_type": "code",
   "execution_count": 38,
   "id": "a39ccd4e-67c8-47c0-84e5-bb2de692df4b",
   "metadata": {
    "tags": []
   },
   "outputs": [],
   "source": [
    "#data types or data structures\n",
    "#more than 1 element we can store"
   ]
  },
  {
   "cell_type": "code",
   "execution_count": 39,
   "id": "cceed71b-445e-4ad8-a52d-850d46c129b0",
   "metadata": {
    "tags": []
   },
   "outputs": [],
   "source": [
    "#list\n",
    "#identification using [](square bracket)\n",
    "#hetergoneous data (string,integer,float,boolean,complex)\n",
    "#duplicate elements\n",
    "#lists operations"
   ]
  },
  {
   "cell_type": "code",
   "execution_count": 40,
   "id": "c75604fa-17c6-4c8f-96ad-c8c966468248",
   "metadata": {
    "tags": []
   },
   "outputs": [],
   "source": [
    "#how to define a list"
   ]
  },
  {
   "cell_type": "code",
   "execution_count": 41,
   "id": "9b6244c7-1e01-47ff-9fbe-d9c30a0687c0",
   "metadata": {
    "tags": []
   },
   "outputs": [],
   "source": [
    "j = []"
   ]
  },
  {
   "cell_type": "code",
   "execution_count": 43,
   "id": "5e46b874-fa05-4279-8a83-b2cc017f541b",
   "metadata": {
    "tags": []
   },
   "outputs": [
    {
     "data": {
      "text/plain": [
       "list"
      ]
     },
     "execution_count": 43,
     "metadata": {},
     "output_type": "execute_result"
    }
   ],
   "source": [
    "type(j)"
   ]
  },
  {
   "cell_type": "code",
   "execution_count": 45,
   "id": "ec576f7b-8323-4493-8550-08333f05febe",
   "metadata": {
    "tags": []
   },
   "outputs": [
    {
     "name": "stdout",
     "output_type": "stream",
     "text": [
      "[]\n"
     ]
    }
   ],
   "source": [
    "print(j)\n",
    "#list is empty currently"
   ]
  },
  {
   "cell_type": "code",
   "execution_count": 46,
   "id": "284347e0-eab2-40a2-8657-875bbe9e0aa5",
   "metadata": {
    "tags": []
   },
   "outputs": [],
   "source": [
    "l = [1,2,\"Prabhjot\",True]"
   ]
  },
  {
   "cell_type": "code",
   "execution_count": 47,
   "id": "390993f2-40a4-4050-81ac-e2df8d87e3a5",
   "metadata": {
    "tags": []
   },
   "outputs": [],
   "source": [
    "#data in the list is stored at various indexes\n",
    "#we cannot leave any index empty"
   ]
  },
  {
   "cell_type": "code",
   "execution_count": 48,
   "id": "340b7d30-ba9e-4ea4-8a8a-bbd8e41d08fd",
   "metadata": {
    "tags": []
   },
   "outputs": [
    {
     "data": {
      "text/plain": [
       "1"
      ]
     },
     "execution_count": 48,
     "metadata": {},
     "output_type": "execute_result"
    }
   ],
   "source": [
    "#how to access an element in a list\n",
    "#using index we can\n",
    "l[0]"
   ]
  },
  {
   "cell_type": "code",
   "execution_count": 50,
   "id": "c93d2f3e-f57f-420c-9724-df6f509fb7bd",
   "metadata": {
    "tags": []
   },
   "outputs": [
    {
     "data": {
      "text/plain": [
       "4"
      ]
     },
     "execution_count": 50,
     "metadata": {},
     "output_type": "execute_result"
    }
   ],
   "source": [
    "#list size or length\n",
    "len(l)"
   ]
  },
  {
   "cell_type": "code",
   "execution_count": 51,
   "id": "b48386df-4bb7-47eb-ae7b-47499110e0a6",
   "metadata": {
    "tags": []
   },
   "outputs": [],
   "source": [
    "#using for loops or while loop we can access all the elements of a list"
   ]
  },
  {
   "cell_type": "code",
   "execution_count": 53,
   "id": "aae58d8c-d728-4027-ab7e-e0b0514568f0",
   "metadata": {
    "tags": []
   },
   "outputs": [
    {
     "name": "stdout",
     "output_type": "stream",
     "text": [
      "1\n",
      "2\n",
      "Prabhjot\n",
      "True\n"
     ]
    }
   ],
   "source": [
    "for i in range(0,len(l),1):\n",
    "    print(l[i])"
   ]
  },
  {
   "cell_type": "code",
   "execution_count": 55,
   "id": "b7b9b3cf-b80e-4e25-b505-f14a97cb7bfa",
   "metadata": {
    "tags": []
   },
   "outputs": [],
   "source": [
    "#once list is created , can we change the elements\n",
    "#mean updation\n",
    "#the answer is yes\n",
    "#lists are mutuable"
   ]
  },
  {
   "cell_type": "code",
   "execution_count": 56,
   "id": "03f2ec0b-a994-44b7-804d-7eea426a6c56",
   "metadata": {
    "tags": []
   },
   "outputs": [
    {
     "data": {
      "text/plain": [
       "[1, 2, 'Prabhjot', True]"
      ]
     },
     "execution_count": 56,
     "metadata": {},
     "output_type": "execute_result"
    }
   ],
   "source": [
    "l"
   ]
  },
  {
   "cell_type": "code",
   "execution_count": 57,
   "id": "359169d8-4279-4c73-8f2a-00775ed42039",
   "metadata": {
    "tags": []
   },
   "outputs": [],
   "source": [
    "l[0] = 10"
   ]
  },
  {
   "cell_type": "code",
   "execution_count": 59,
   "id": "5a04f2b5-2672-48a4-8420-25aa5425a97f",
   "metadata": {
    "tags": []
   },
   "outputs": [
    {
     "data": {
      "text/plain": [
       "[10, 2, 'Prabhjot', True]"
      ]
     },
     "execution_count": 59,
     "metadata": {},
     "output_type": "execute_result"
    }
   ],
   "source": [
    "l"
   ]
  },
  {
   "cell_type": "code",
   "execution_count": 60,
   "id": "b8a9c809-ba1d-4348-8c1a-e2d108408c52",
   "metadata": {
    "tags": []
   },
   "outputs": [],
   "source": [
    "#lists methods/functions "
   ]
  },
  {
   "cell_type": "code",
   "execution_count": 61,
   "id": "9f0cd7d5-c7bf-4016-a274-40b322d26a81",
   "metadata": {
    "tags": []
   },
   "outputs": [
    {
     "data": {
      "text/plain": [
       "[10, 2, 'Prabhjot', True]"
      ]
     },
     "execution_count": 61,
     "metadata": {},
     "output_type": "execute_result"
    }
   ],
   "source": [
    "l"
   ]
  },
  {
   "cell_type": "code",
   "execution_count": 63,
   "id": "aaf09cc0-4553-4953-87bb-a211c6af013b",
   "metadata": {
    "tags": []
   },
   "outputs": [],
   "source": [
    "#methods\n",
    "#list you want to add a new element at last index always"
   ]
  },
  {
   "cell_type": "code",
   "execution_count": 64,
   "id": "56ad1d54-7145-4922-928d-2c62a3986e1f",
   "metadata": {
    "tags": []
   },
   "outputs": [],
   "source": [
    "l.append(\"Ahmad\")"
   ]
  },
  {
   "cell_type": "code",
   "execution_count": 65,
   "id": "42e8ae3b-79eb-4d27-9f19-a27a52b0d458",
   "metadata": {
    "tags": []
   },
   "outputs": [
    {
     "data": {
      "text/plain": [
       "[10, 2, 'Prabhjot', True, 'Ahmad']"
      ]
     },
     "execution_count": 65,
     "metadata": {},
     "output_type": "execute_result"
    }
   ],
   "source": [
    "l"
   ]
  },
  {
   "cell_type": "code",
   "execution_count": 66,
   "id": "ed0dbd27-828d-49ef-9a4d-fe3fd9274dab",
   "metadata": {
    "tags": []
   },
   "outputs": [],
   "source": [
    "#list at any position i want to add a new element"
   ]
  },
  {
   "cell_type": "code",
   "execution_count": 67,
   "id": "1d6a9d54-614b-4a56-8894-6063df58ddac",
   "metadata": {
    "tags": []
   },
   "outputs": [],
   "source": [
    "l.insert(2,100)"
   ]
  },
  {
   "cell_type": "code",
   "execution_count": 69,
   "id": "e971dc09-256d-4dfa-a689-fb6c82563ced",
   "metadata": {
    "tags": []
   },
   "outputs": [
    {
     "data": {
      "text/plain": [
       "[10, 2, 100, 'Prabhjot', True, 'Ahmad']"
      ]
     },
     "execution_count": 69,
     "metadata": {},
     "output_type": "execute_result"
    }
   ],
   "source": [
    "l"
   ]
  },
  {
   "cell_type": "code",
   "execution_count": 70,
   "id": "4812dc46-3e52-44c9-b5b0-d64a167729d7",
   "metadata": {
    "tags": []
   },
   "outputs": [],
   "source": [
    "#list ordered\n",
    "#changeable\n",
    "#duplicates"
   ]
  },
  {
   "cell_type": "code",
   "execution_count": 71,
   "id": "83d1271d-96ef-46f9-8abf-4bb45aae776e",
   "metadata": {
    "tags": []
   },
   "outputs": [],
   "source": [
    "k = [10,10,200,True]"
   ]
  },
  {
   "cell_type": "code",
   "execution_count": 73,
   "id": "265dcd1c-7f70-4086-9bee-00b4988efa90",
   "metadata": {
    "tags": []
   },
   "outputs": [
    {
     "data": {
      "text/plain": [
       "[10, 10, 200, True]"
      ]
     },
     "execution_count": 73,
     "metadata": {},
     "output_type": "execute_result"
    }
   ],
   "source": [
    "k"
   ]
  },
  {
   "cell_type": "code",
   "execution_count": 74,
   "id": "b5ad030f-c17d-4c5f-8065-48c43e044453",
   "metadata": {
    "tags": []
   },
   "outputs": [],
   "source": [
    "#how to define a list\n",
    "#access the elements of a list\n",
    "# how to insert at last or at any position"
   ]
  },
  {
   "cell_type": "code",
   "execution_count": null,
   "id": "60d3f35f-2ac5-4df9-8c96-7bf0dafe1eb6",
   "metadata": {},
   "outputs": [],
   "source": []
  }
 ],
 "metadata": {
  "kernelspec": {
   "display_name": "Python 3 (ipykernel)",
   "language": "python",
   "name": "python3"
  },
  "language_info": {
   "codemirror_mode": {
    "name": "ipython",
    "version": 3
   },
   "file_extension": ".py",
   "mimetype": "text/x-python",
   "name": "python",
   "nbconvert_exporter": "python",
   "pygments_lexer": "ipython3",
   "version": "3.11.4"
  }
 },
 "nbformat": 4,
 "nbformat_minor": 5
}
