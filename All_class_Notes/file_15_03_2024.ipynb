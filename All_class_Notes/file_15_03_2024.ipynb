{
 "cells": [
  {
   "cell_type": "code",
   "execution_count": 1,
   "id": "229a0887-8ffd-41f1-83a4-90f264bcd735",
   "metadata": {
    "tags": []
   },
   "outputs": [],
   "source": [
    "#list\n",
    "#tuples\n",
    "#dictionary\n",
    "#set"
   ]
  },
  {
   "cell_type": "code",
   "execution_count": 2,
   "id": "87b581ea-86e6-4347-9616-fbfa843222f6",
   "metadata": {
    "tags": []
   },
   "outputs": [],
   "source": [
    "#we want to store multiple elements in a single variable"
   ]
  },
  {
   "cell_type": "code",
   "execution_count": 3,
   "id": "9287d1f3-df9e-4cf1-ae76-664f7c347d93",
   "metadata": {
    "tags": []
   },
   "outputs": [],
   "source": [
    "#list is data structure which store hetergenous data(string,integer,boolean etc)\n",
    "#duplicate elements\n",
    "#we can delete,update and insert elements in a lists(list is changeable,it is mutuable)"
   ]
  },
  {
   "cell_type": "code",
   "execution_count": 4,
   "id": "615559f8-4610-4f4e-832a-3bb3bbbaa070",
   "metadata": {
    "tags": []
   },
   "outputs": [],
   "source": [
    "#how to define a list\n",
    "\n",
    "l = [1,\"Prabhjot\",True,20.1]"
   ]
  },
  {
   "cell_type": "code",
   "execution_count": 6,
   "id": "74951fc8-76af-4f14-b094-f16db50fc586",
   "metadata": {
    "tags": []
   },
   "outputs": [
    {
     "data": {
      "text/plain": [
       "list"
      ]
     },
     "execution_count": 6,
     "metadata": {},
     "output_type": "execute_result"
    }
   ],
   "source": [
    "#to check the data type of a variable\n",
    "type(l)"
   ]
  },
  {
   "cell_type": "code",
   "execution_count": 8,
   "id": "db4733b2-1aef-4c80-8479-383b3e30eaa2",
   "metadata": {
    "tags": []
   },
   "outputs": [],
   "source": [
    "#how to access the elements of a list\n",
    "#using index"
   ]
  },
  {
   "cell_type": "code",
   "execution_count": 10,
   "id": "6f83850f-7530-49bf-8bc7-e0e2009dbb4d",
   "metadata": {
    "tags": []
   },
   "outputs": [
    {
     "data": {
      "text/plain": [
       "1"
      ]
     },
     "execution_count": 10,
     "metadata": {},
     "output_type": "execute_result"
    }
   ],
   "source": [
    "l[0]"
   ]
  },
  {
   "cell_type": "code",
   "execution_count": 11,
   "id": "99a4b102-7f52-412e-80e2-beece91f2b41",
   "metadata": {
    "tags": []
   },
   "outputs": [
    {
     "data": {
      "text/plain": [
       "'Prabhjot'"
      ]
     },
     "execution_count": 11,
     "metadata": {},
     "output_type": "execute_result"
    }
   ],
   "source": [
    "l[1]"
   ]
  },
  {
   "cell_type": "code",
   "execution_count": 12,
   "id": "6b7e2989-ac56-48fc-8097-8cf59f56a192",
   "metadata": {
    "tags": []
   },
   "outputs": [
    {
     "data": {
      "text/plain": [
       "True"
      ]
     },
     "execution_count": 12,
     "metadata": {},
     "output_type": "execute_result"
    }
   ],
   "source": [
    "l[2]"
   ]
  },
  {
   "cell_type": "code",
   "execution_count": 13,
   "id": "89058ef5-348f-43cf-b1aa-5e3aea367dda",
   "metadata": {
    "tags": []
   },
   "outputs": [
    {
     "data": {
      "text/plain": [
       "20.1"
      ]
     },
     "execution_count": 13,
     "metadata": {},
     "output_type": "execute_result"
    }
   ],
   "source": [
    "l[3]"
   ]
  },
  {
   "cell_type": "code",
   "execution_count": 15,
   "id": "4abbe2ba-64ba-4c8a-9202-42c7a05e068f",
   "metadata": {
    "tags": []
   },
   "outputs": [
    {
     "name": "stdout",
     "output_type": "stream",
     "text": [
      "1\n",
      "Prabhjot\n",
      "True\n",
      "20.1\n"
     ]
    }
   ],
   "source": [
    "for i in range(0,len(l)):\n",
    "    print(l[i])"
   ]
  },
  {
   "cell_type": "code",
   "execution_count": 16,
   "id": "0a6d76ec-313e-449a-a2bc-8566520715f2",
   "metadata": {
    "tags": []
   },
   "outputs": [],
   "source": [
    "#insertion\n",
    "#insert specific position\n",
    "#insert at last"
   ]
  },
  {
   "cell_type": "code",
   "execution_count": 17,
   "id": "53632cba-3c01-42d2-9ec8-8ff3ddfa37ea",
   "metadata": {
    "tags": []
   },
   "outputs": [],
   "source": [
    "#insert at last\n",
    "l.append(10)"
   ]
  },
  {
   "cell_type": "code",
   "execution_count": 19,
   "id": "b783c8a6-d78c-4a55-b072-70a30aac5fdc",
   "metadata": {
    "tags": []
   },
   "outputs": [
    {
     "data": {
      "text/plain": [
       "[1, 'Prabhjot', True, 20.1, 10]"
      ]
     },
     "execution_count": 19,
     "metadata": {},
     "output_type": "execute_result"
    }
   ],
   "source": [
    "l"
   ]
  },
  {
   "cell_type": "code",
   "execution_count": 20,
   "id": "a1e04255-9fba-4903-a265-65d166326fd2",
   "metadata": {
    "tags": []
   },
   "outputs": [],
   "source": [
    "#insert specific position\n",
    "l.insert(1,500)"
   ]
  },
  {
   "cell_type": "code",
   "execution_count": 22,
   "id": "3b977915-dc14-4d2b-ab86-fc6eaecd6bff",
   "metadata": {
    "tags": []
   },
   "outputs": [
    {
     "data": {
      "text/plain": [
       "[1, 500, 'Prabhjot', True, 20.1, 10]"
      ]
     },
     "execution_count": 22,
     "metadata": {},
     "output_type": "execute_result"
    }
   ],
   "source": [
    "l"
   ]
  },
  {
   "cell_type": "code",
   "execution_count": 23,
   "id": "dd030219-11c6-4389-9680-d168f10d121a",
   "metadata": {
    "tags": []
   },
   "outputs": [],
   "source": [
    "a = [1,2,3]\n",
    "b = [3,4,5]"
   ]
  },
  {
   "cell_type": "code",
   "execution_count": 24,
   "id": "81ada6ee-0784-4dfd-840c-c9205fe80ad8",
   "metadata": {
    "tags": []
   },
   "outputs": [],
   "source": [
    "#combine two list\n",
    "a.extend(b)"
   ]
  },
  {
   "cell_type": "code",
   "execution_count": 26,
   "id": "716c4184-22a3-4745-8c35-cf4bdc14073f",
   "metadata": {
    "tags": []
   },
   "outputs": [
    {
     "data": {
      "text/plain": [
       "[1, 2, 3, 3, 4, 5]"
      ]
     },
     "execution_count": 26,
     "metadata": {},
     "output_type": "execute_result"
    }
   ],
   "source": [
    "a"
   ]
  },
  {
   "cell_type": "code",
   "execution_count": 28,
   "id": "bb0d7ffa-79e4-427e-a808-c78049d31149",
   "metadata": {
    "tags": []
   },
   "outputs": [
    {
     "data": {
      "text/plain": [
       "[1, 500, 'Prabhjot', True, 20.1, 10]"
      ]
     },
     "execution_count": 28,
     "metadata": {},
     "output_type": "execute_result"
    }
   ],
   "source": [
    "#to change or update the list elements\n",
    "l"
   ]
  },
  {
   "cell_type": "code",
   "execution_count": 29,
   "id": "b36898aa-8287-42e0-af0b-1949307e19f0",
   "metadata": {
    "tags": []
   },
   "outputs": [],
   "source": [
    "l[0] = \"Ishika\""
   ]
  },
  {
   "cell_type": "code",
   "execution_count": 31,
   "id": "48b03e13-37c0-4d57-806e-c81f1f781199",
   "metadata": {
    "tags": []
   },
   "outputs": [
    {
     "data": {
      "text/plain": [
       "['Ishika', 500, 'Prabhjot', True, 20.1, 10]"
      ]
     },
     "execution_count": 31,
     "metadata": {},
     "output_type": "execute_result"
    }
   ],
   "source": [
    "l"
   ]
  },
  {
   "cell_type": "code",
   "execution_count": 34,
   "id": "6ca80c07-e46e-4d31-a6b6-a016cd024b69",
   "metadata": {
    "tags": []
   },
   "outputs": [],
   "source": [
    "#to remove the elements\n",
    "#i want to remove the element directly\n",
    "l.remove(500)\n",
    "#value"
   ]
  },
  {
   "cell_type": "code",
   "execution_count": 38,
   "id": "38344528-de03-4454-bbe4-7a60e437ec36",
   "metadata": {
    "tags": []
   },
   "outputs": [
    {
     "data": {
      "text/plain": [
       "['Ishika', 'Prabhjot', 20.1, 10]"
      ]
     },
     "execution_count": 38,
     "metadata": {},
     "output_type": "execute_result"
    }
   ],
   "source": [
    "\n",
    "l"
   ]
  },
  {
   "cell_type": "code",
   "execution_count": 39,
   "id": "422cb551-2819-446c-abfc-10cf7fdfd280",
   "metadata": {
    "tags": []
   },
   "outputs": [],
   "source": [
    "l[0]= 1"
   ]
  },
  {
   "cell_type": "code",
   "execution_count": 40,
   "id": "718d3995-d309-44d7-8fdf-6ad2e58cd3a1",
   "metadata": {
    "tags": []
   },
   "outputs": [
    {
     "data": {
      "text/plain": [
       "[1, 'Prabhjot', 20.1, 10]"
      ]
     },
     "execution_count": 40,
     "metadata": {},
     "output_type": "execute_result"
    }
   ],
   "source": [
    "l"
   ]
  },
  {
   "cell_type": "code",
   "execution_count": null,
   "id": "84d029c9-7815-491a-bcec-b42d281f4cfd",
   "metadata": {},
   "outputs": [],
   "source": []
  },
  {
   "cell_type": "code",
   "execution_count": 35,
   "id": "39106b2f-877e-4061-becc-89292040e009",
   "metadata": {
    "tags": []
   },
   "outputs": [
    {
     "data": {
      "text/plain": [
       "['Ishika', 'Prabhjot', True, 20.1, 10]"
      ]
     },
     "execution_count": 35,
     "metadata": {},
     "output_type": "execute_result"
    }
   ],
   "source": [
    "l"
   ]
  },
  {
   "cell_type": "code",
   "execution_count": 36,
   "id": "0a1d3729-57fe-440f-ae10-f8a0ebd987e2",
   "metadata": {
    "tags": []
   },
   "outputs": [
    {
     "data": {
      "text/plain": [
       "True"
      ]
     },
     "execution_count": 36,
     "metadata": {},
     "output_type": "execute_result"
    }
   ],
   "source": [
    "#i want to remove the element from a given index\n",
    "l.pop(2)\n",
    "#index"
   ]
  },
  {
   "cell_type": "code",
   "execution_count": 41,
   "id": "57f35bcb-01fb-4c1e-a762-cd0f8f1a39f4",
   "metadata": {
    "tags": []
   },
   "outputs": [
    {
     "data": {
      "text/plain": [
       "[1, 'Prabhjot', 20.1, 10]"
      ]
     },
     "execution_count": 41,
     "metadata": {},
     "output_type": "execute_result"
    }
   ],
   "source": [
    "l"
   ]
  },
  {
   "cell_type": "code",
   "execution_count": 44,
   "id": "7a8495f4-d16d-4ec5-b72d-fa480b80b9f8",
   "metadata": {
    "tags": []
   },
   "outputs": [],
   "source": [
    "del l[0:2]"
   ]
  },
  {
   "cell_type": "code",
   "execution_count": 45,
   "id": "ca424ca5-6c89-4fe8-98a0-3dfedb8c5b79",
   "metadata": {
    "tags": []
   },
   "outputs": [
    {
     "data": {
      "text/plain": [
       "[20.1, 10]"
      ]
     },
     "execution_count": 45,
     "metadata": {},
     "output_type": "execute_result"
    }
   ],
   "source": [
    "l"
   ]
  },
  {
   "cell_type": "code",
   "execution_count": 46,
   "id": "15dfdc88-49be-433f-8067-dd68afcee05a",
   "metadata": {
    "tags": []
   },
   "outputs": [],
   "source": [
    "l.clear()"
   ]
  },
  {
   "cell_type": "code",
   "execution_count": 48,
   "id": "e9ea31bd-06f7-4a87-9350-277a2767b8c3",
   "metadata": {
    "tags": []
   },
   "outputs": [],
   "source": [
    "l = [5,3,1,7,9,10,14,2,4,6]"
   ]
  },
  {
   "cell_type": "code",
   "execution_count": 52,
   "id": "131eead6-514b-4cd8-9adb-939056458cc3",
   "metadata": {
    "tags": []
   },
   "outputs": [],
   "source": [
    "#sort\n",
    "l.sort(reverse=True)\n",
    "#descending"
   ]
  },
  {
   "cell_type": "code",
   "execution_count": 54,
   "id": "86ce99af-5338-4e3e-8f04-439f87dbb963",
   "metadata": {
    "tags": []
   },
   "outputs": [
    {
     "data": {
      "text/plain": [
       "[14, 10, 9, 7, 6, 5, 4, 3, 2, 1]"
      ]
     },
     "execution_count": 54,
     "metadata": {},
     "output_type": "execute_result"
    }
   ],
   "source": [
    "l"
   ]
  },
  {
   "cell_type": "code",
   "execution_count": 56,
   "id": "384a1d0d-b9e1-43ea-b99d-f151d0d27e2b",
   "metadata": {
    "tags": []
   },
   "outputs": [],
   "source": [
    "l.sort(reverse=False)\n",
    "#ascending"
   ]
  },
  {
   "cell_type": "code",
   "execution_count": 58,
   "id": "ea54be4d-4a6f-423a-81a8-c76b0bf269a8",
   "metadata": {
    "tags": []
   },
   "outputs": [
    {
     "data": {
      "text/plain": [
       "[1, 2, 3, 4, 5, 6, 7, 9, 10, 14]"
      ]
     },
     "execution_count": 58,
     "metadata": {},
     "output_type": "execute_result"
    }
   ],
   "source": [
    "l"
   ]
  },
  {
   "cell_type": "code",
   "execution_count": 59,
   "id": "dd16d486-ec45-4af1-9596-d95e784e5e72",
   "metadata": {
    "tags": []
   },
   "outputs": [],
   "source": [
    "#list\n",
    "#append - to insert at last\n",
    "#extend\n",
    "#len - to find length of the list\n",
    "#insert - to insert at any specific position\n",
    "#remove\n",
    "#pop\n",
    "#reverse\n",
    "#sort"
   ]
  },
  {
   "cell_type": "code",
   "execution_count": 60,
   "id": "5be9b1c2-70ea-410a-aaa1-b311ac22eddd",
   "metadata": {
    "tags": []
   },
   "outputs": [
    {
     "data": {
      "text/plain": [
       "[1, 2, 3, 4, 5, 6, 7, 9, 10, 14]"
      ]
     },
     "execution_count": 60,
     "metadata": {},
     "output_type": "execute_result"
    }
   ],
   "source": [
    "l"
   ]
  },
  {
   "cell_type": "code",
   "execution_count": 61,
   "id": "fda248ae-12fd-49ed-9b84-6a4fda888c0c",
   "metadata": {
    "tags": []
   },
   "outputs": [],
   "source": [
    "l.reverse()"
   ]
  },
  {
   "cell_type": "code",
   "execution_count": 63,
   "id": "d6d6b0da-7407-483b-9911-86762c8a8602",
   "metadata": {
    "tags": []
   },
   "outputs": [
    {
     "data": {
      "text/plain": [
       "[14, 10, 9, 7, 6, 5, 4, 3, 2, 1]"
      ]
     },
     "execution_count": 63,
     "metadata": {},
     "output_type": "execute_result"
    }
   ],
   "source": [
    "l"
   ]
  },
  {
   "cell_type": "code",
   "execution_count": 64,
   "id": "f24edb21-4731-45d0-ab6b-f8cb1258dec3",
   "metadata": {
    "tags": []
   },
   "outputs": [],
   "source": [
    "l = [1,2,3,4,1,3,4,3,2,2,4,6,4,3]"
   ]
  },
  {
   "cell_type": "code",
   "execution_count": 68,
   "id": "768c482a-c8ad-4e91-b0ee-8f38e32fd195",
   "metadata": {
    "tags": []
   },
   "outputs": [
    {
     "data": {
      "text/plain": [
       "4"
      ]
     },
     "execution_count": 68,
     "metadata": {},
     "output_type": "execute_result"
    }
   ],
   "source": [
    "l.count(3)"
   ]
  },
  {
   "cell_type": "code",
   "execution_count": 69,
   "id": "7589e744-4632-4491-b6ab-fe301596a3e6",
   "metadata": {
    "tags": []
   },
   "outputs": [],
   "source": [
    "#membership operators\n",
    "#in and not in"
   ]
  },
  {
   "cell_type": "code",
   "execution_count": 70,
   "id": "5ca9afb4-3003-4d38-b90f-5e7f3f66d05a",
   "metadata": {
    "tags": []
   },
   "outputs": [
    {
     "data": {
      "text/plain": [
       "True"
      ]
     },
     "execution_count": 70,
     "metadata": {},
     "output_type": "execute_result"
    }
   ],
   "source": [
    "6 in l"
   ]
  },
  {
   "cell_type": "code",
   "execution_count": 71,
   "id": "8947b64f-a8de-4f9c-a438-509f9c81d8b0",
   "metadata": {
    "tags": []
   },
   "outputs": [
    {
     "data": {
      "text/plain": [
       "True"
      ]
     },
     "execution_count": 71,
     "metadata": {},
     "output_type": "execute_result"
    }
   ],
   "source": [
    "10 not in l\n",
    "#searching"
   ]
  },
  {
   "cell_type": "code",
   "execution_count": 72,
   "id": "885f90bd-7675-49ce-bb2b-eb6d0e23504e",
   "metadata": {
    "tags": []
   },
   "outputs": [],
   "source": [
    "#in a single list if we are storing different data types of elements\n",
    "#then how much memory they are using to store the different elements"
   ]
  },
  {
   "cell_type": "code",
   "execution_count": 73,
   "id": "cbb17640-425f-47c5-be22-4acf87036842",
   "metadata": {
    "tags": []
   },
   "outputs": [],
   "source": [
    "l = [1,2,3,4,5]"
   ]
  },
  {
   "cell_type": "code",
   "execution_count": 74,
   "id": "1b8d7862-9dca-457d-89da-a01cbff2ae24",
   "metadata": {
    "tags": []
   },
   "outputs": [],
   "source": [
    "#no. of bytes taken to store a single int in a list\n",
    "import sys"
   ]
  },
  {
   "cell_type": "code",
   "execution_count": 85,
   "id": "6b101842-5d59-4e5f-8349-2e8c63b14833",
   "metadata": {
    "tags": []
   },
   "outputs": [
    {
     "data": {
      "text/plain": [
       "140"
      ]
     },
     "execution_count": 85,
     "metadata": {},
     "output_type": "execute_result"
    }
   ],
   "source": [
    "sys.getsizeof(l[0])*5"
   ]
  },
  {
   "cell_type": "code",
   "execution_count": 86,
   "id": "5cdd329b-d5e2-4032-8362-3fdcdaec4a5a",
   "metadata": {
    "tags": []
   },
   "outputs": [],
   "source": [
    "#tuples\n",
    "#hetergenous data\n",
    "#duplicates\n",
    "#tuples are immutable\n",
    "#we cannot update the elements once assigned"
   ]
  },
  {
   "cell_type": "code",
   "execution_count": 87,
   "id": "4c38562c-5f83-4ec1-be73-c1338b5ecbf6",
   "metadata": {
    "tags": []
   },
   "outputs": [],
   "source": [
    "#tuple\n",
    "# using paranthesis ()"
   ]
  },
  {
   "cell_type": "code",
   "execution_count": 88,
   "id": "071b01cf-cd73-47c6-8a17-79e0c9814ac4",
   "metadata": {
    "tags": []
   },
   "outputs": [],
   "source": [
    "t = (1,2,3,4,5)"
   ]
  },
  {
   "cell_type": "code",
   "execution_count": 89,
   "id": "9e8d2254-c99a-4fb5-9517-59ea6e902abe",
   "metadata": {
    "tags": []
   },
   "outputs": [
    {
     "data": {
      "text/plain": [
       "tuple"
      ]
     },
     "execution_count": 89,
     "metadata": {},
     "output_type": "execute_result"
    }
   ],
   "source": [
    "type(t)"
   ]
  },
  {
   "cell_type": "code",
   "execution_count": 90,
   "id": "c9e2e4b1-7e15-4cf2-a92d-4681c970e871",
   "metadata": {
    "tags": []
   },
   "outputs": [],
   "source": [
    "#how to access the elements of a tuple\n",
    "#using index"
   ]
  },
  {
   "cell_type": "code",
   "execution_count": 92,
   "id": "86766ec8-c4eb-470e-adb5-3339f0e501c8",
   "metadata": {
    "tags": []
   },
   "outputs": [
    {
     "data": {
      "text/plain": [
       "1"
      ]
     },
     "execution_count": 92,
     "metadata": {},
     "output_type": "execute_result"
    }
   ],
   "source": [
    "t[0]"
   ]
  },
  {
   "cell_type": "code",
   "execution_count": 93,
   "id": "3547b742-9335-4341-9053-78f86c32cb96",
   "metadata": {
    "tags": []
   },
   "outputs": [
    {
     "name": "stdout",
     "output_type": "stream",
     "text": [
      "1\n",
      "2\n",
      "3\n",
      "4\n",
      "5\n"
     ]
    }
   ],
   "source": [
    "for i in range(0,len(t)):\n",
    "    print(t[i])"
   ]
  },
  {
   "cell_type": "code",
   "execution_count": 94,
   "id": "f01260a5-7083-497c-8e1a-30c1f048e8d5",
   "metadata": {
    "tags": []
   },
   "outputs": [],
   "source": [
    "t = (1,1,2,3,4,3,2)"
   ]
  },
  {
   "cell_type": "code",
   "execution_count": 95,
   "id": "253e17ae-c219-44c3-84b7-ec77b46b6531",
   "metadata": {
    "tags": []
   },
   "outputs": [
    {
     "data": {
      "text/plain": [
       "(1, 1, 2, 3, 4, 3, 2)"
      ]
     },
     "execution_count": 95,
     "metadata": {},
     "output_type": "execute_result"
    }
   ],
   "source": [
    "t"
   ]
  },
  {
   "cell_type": "code",
   "execution_count": 96,
   "id": "cd729cb5-ef8a-467f-8b8e-02a94fdee88c",
   "metadata": {
    "tags": []
   },
   "outputs": [],
   "source": [
    "#update the element in a tuple"
   ]
  },
  {
   "cell_type": "code",
   "execution_count": 98,
   "id": "9f26307d-9cd9-4c84-a8e1-ec7b00f0d240",
   "metadata": {
    "tags": []
   },
   "outputs": [
    {
     "ename": "TypeError",
     "evalue": "'tuple' object does not support item assignment",
     "output_type": "error",
     "traceback": [
      "\u001b[1;31m---------------------------------------------------------------------------\u001b[0m",
      "\u001b[1;31mTypeError\u001b[0m                                 Traceback (most recent call last)",
      "Cell \u001b[1;32mIn[98], line 1\u001b[0m\n\u001b[1;32m----> 1\u001b[0m t[\u001b[38;5;241m0\u001b[39m] \u001b[38;5;241m=\u001b[39m \u001b[38;5;241m10\u001b[39m\n",
      "\u001b[1;31mTypeError\u001b[0m: 'tuple' object does not support item assignment"
     ]
    }
   ],
   "source": [
    "t[0] = 10"
   ]
  },
  {
   "cell_type": "code",
   "execution_count": 111,
   "id": "e3d46223-48de-4de4-9a72-0a5ba55f5910",
   "metadata": {
    "tags": []
   },
   "outputs": [],
   "source": [
    "#we can convert a tuple to a list"
   ]
  },
  {
   "cell_type": "code",
   "execution_count": 112,
   "id": "d3ef7236-9e95-4026-9de2-a589577a92d7",
   "metadata": {
    "tags": []
   },
   "outputs": [
    {
     "data": {
      "text/plain": [
       "(1, 1, 2, 3, 4, 3, 2)"
      ]
     },
     "execution_count": 112,
     "metadata": {},
     "output_type": "execute_result"
    }
   ],
   "source": [
    "t"
   ]
  },
  {
   "cell_type": "code",
   "execution_count": 114,
   "id": "ee8373f4-b5a7-4503-8174-a0a9873f4cf9",
   "metadata": {
    "tags": []
   },
   "outputs": [],
   "source": [
    "a = list(t)"
   ]
  },
  {
   "cell_type": "code",
   "execution_count": 116,
   "id": "4093174b-b996-40e2-becc-39a86765fd20",
   "metadata": {
    "tags": []
   },
   "outputs": [],
   "source": [
    "a.append(10)"
   ]
  },
  {
   "cell_type": "code",
   "execution_count": 117,
   "id": "6c2e9f9a-abca-4198-add6-53095cbd0030",
   "metadata": {
    "tags": []
   },
   "outputs": [
    {
     "data": {
      "text/plain": [
       "(1, 1, 2, 3, 4, 3, 2, 10)"
      ]
     },
     "execution_count": 117,
     "metadata": {},
     "output_type": "execute_result"
    }
   ],
   "source": [
    "tuple(a)"
   ]
  },
  {
   "cell_type": "code",
   "execution_count": 102,
   "id": "a3bf38b5-df97-441c-bd00-8a312e169e85",
   "metadata": {
    "tags": []
   },
   "outputs": [
    {
     "data": {
      "text/plain": [
       "list"
      ]
     },
     "execution_count": 102,
     "metadata": {},
     "output_type": "execute_result"
    }
   ],
   "source": [
    "type(a)"
   ]
  },
  {
   "cell_type": "code",
   "execution_count": 104,
   "id": "24d3e5e1-f7a5-4255-8b87-fbdd8414564a",
   "metadata": {
    "tags": []
   },
   "outputs": [],
   "source": [
    "b = tuple(a)"
   ]
  },
  {
   "cell_type": "code",
   "execution_count": 105,
   "id": "85f7aa18-ed43-450d-8cc5-15bb962c87c3",
   "metadata": {
    "tags": []
   },
   "outputs": [],
   "source": [
    "#count\n",
    "#index"
   ]
  },
  {
   "cell_type": "code",
   "execution_count": 106,
   "id": "b10088e7-75c6-441d-a2a4-beae6dc19b44",
   "metadata": {
    "tags": []
   },
   "outputs": [
    {
     "data": {
      "text/plain": [
       "(1, 1, 2, 3, 4, 3, 2)"
      ]
     },
     "execution_count": 106,
     "metadata": {},
     "output_type": "execute_result"
    }
   ],
   "source": [
    "t"
   ]
  },
  {
   "cell_type": "code",
   "execution_count": 107,
   "id": "64f1107d-a43b-4f28-be4b-e1e75fe5e11a",
   "metadata": {
    "tags": []
   },
   "outputs": [
    {
     "data": {
      "text/plain": [
       "2"
      ]
     },
     "execution_count": 107,
     "metadata": {},
     "output_type": "execute_result"
    }
   ],
   "source": [
    "t.count(1)"
   ]
  },
  {
   "cell_type": "code",
   "execution_count": 108,
   "id": "deed0931-4512-4e17-bb81-0d2d946f5105",
   "metadata": {
    "tags": []
   },
   "outputs": [
    {
     "data": {
      "text/plain": [
       "0"
      ]
     },
     "execution_count": 108,
     "metadata": {},
     "output_type": "execute_result"
    }
   ],
   "source": [
    "t.index(1)"
   ]
  },
  {
   "cell_type": "code",
   "execution_count": 109,
   "id": "dfca31bc-8c8c-4d3d-a7c3-c85703900bdb",
   "metadata": {
    "tags": []
   },
   "outputs": [
    {
     "data": {
      "text/plain": [
       "(1, 1, 2, 3, 4, 3, 2)"
      ]
     },
     "execution_count": 109,
     "metadata": {},
     "output_type": "execute_result"
    }
   ],
   "source": [
    "t"
   ]
  },
  {
   "cell_type": "code",
   "execution_count": 110,
   "id": "fa663b03-b72d-4808-8583-180944a7afa9",
   "metadata": {
    "tags": []
   },
   "outputs": [
    {
     "name": "stdout",
     "output_type": "stream",
     "text": [
      "0\n",
      "1\n"
     ]
    }
   ],
   "source": [
    "#using manual logic\n",
    "item=1\n",
    "for i in range(0,len(t)):\n",
    "    if item == t[i]:\n",
    "        print(i)"
   ]
  },
  {
   "cell_type": "code",
   "execution_count": 118,
   "id": "8e6f6b93-9b39-4dfe-b4dd-8f19b222c76c",
   "metadata": {
    "tags": []
   },
   "outputs": [],
   "source": [
    "#definition of a dictionary\n",
    "#in dictionary we store the data using key-value pair\n",
    "#we can store only unique keys\n",
    "#we can store duplicate value"
   ]
  },
  {
   "cell_type": "code",
   "execution_count": 119,
   "id": "416402f0-d9b3-4792-91c9-f56d5592ff6b",
   "metadata": {
    "tags": []
   },
   "outputs": [],
   "source": [
    "#phone directory?\n"
   ]
  },
  {
   "cell_type": "code",
   "execution_count": 120,
   "id": "f3ecf8d3-2a61-4763-969c-52f60e03abe5",
   "metadata": {
    "tags": []
   },
   "outputs": [],
   "source": [
    "#how to create a dictionary\n",
    "#{}"
   ]
  },
  {
   "cell_type": "code",
   "execution_count": 125,
   "id": "ca1baff2-d28b-49bc-95d3-9f2cc7c4999b",
   "metadata": {
    "tags": []
   },
   "outputs": [],
   "source": [
    "d = {'1':'Prabhjot','2':'Ankit','3':10000,'4':20.2}"
   ]
  },
  {
   "cell_type": "code",
   "execution_count": 126,
   "id": "ff4ed2f7-12f7-4076-a899-3a5e9a4b0777",
   "metadata": {
    "tags": []
   },
   "outputs": [
    {
     "data": {
      "text/plain": [
       "dict"
      ]
     },
     "execution_count": 126,
     "metadata": {},
     "output_type": "execute_result"
    }
   ],
   "source": [
    "type(d)"
   ]
  },
  {
   "cell_type": "code",
   "execution_count": 123,
   "id": "ff8e8abc-dcbb-47a2-a99f-bb76a46cc7ab",
   "metadata": {
    "tags": []
   },
   "outputs": [],
   "source": [
    "#how to access the elements of a dictionary"
   ]
  },
  {
   "cell_type": "code",
   "execution_count": 129,
   "id": "3946edec-c7f5-4c24-8ba5-1c952ec226a3",
   "metadata": {
    "tags": []
   },
   "outputs": [
    {
     "data": {
      "text/plain": [
       "'Prabhjot'"
      ]
     },
     "execution_count": 129,
     "metadata": {},
     "output_type": "execute_result"
    }
   ],
   "source": [
    "d['1']"
   ]
  },
  {
   "cell_type": "code",
   "execution_count": 131,
   "id": "ac5790ee-94d9-41fb-832f-0f96f7d9ce68",
   "metadata": {
    "tags": []
   },
   "outputs": [
    {
     "data": {
      "text/plain": [
       "'Prabhjot'"
      ]
     },
     "execution_count": 131,
     "metadata": {},
     "output_type": "execute_result"
    }
   ],
   "source": [
    "d.get('1')"
   ]
  },
  {
   "cell_type": "code",
   "execution_count": 132,
   "id": "c25f53c8-de2c-4b35-8501-92f60e463ac9",
   "metadata": {
    "tags": []
   },
   "outputs": [],
   "source": [
    "#methods\n",
    "#we will talk set and dictionary in next class"
   ]
  },
  {
   "cell_type": "code",
   "execution_count": null,
   "id": "4afa74b5-867b-40ae-aaad-22f07c74f6ba",
   "metadata": {},
   "outputs": [],
   "source": []
  }
 ],
 "metadata": {
  "kernelspec": {
   "display_name": "Python 3 (ipykernel)",
   "language": "python",
   "name": "python3"
  },
  "language_info": {
   "codemirror_mode": {
    "name": "ipython",
    "version": 3
   },
   "file_extension": ".py",
   "mimetype": "text/x-python",
   "name": "python",
   "nbconvert_exporter": "python",
   "pygments_lexer": "ipython3",
   "version": "3.11.4"
  }
 },
 "nbformat": 4,
 "nbformat_minor": 5
}
