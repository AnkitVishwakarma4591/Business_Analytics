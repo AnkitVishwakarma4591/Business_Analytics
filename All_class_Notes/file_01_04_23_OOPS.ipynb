{
  "nbformat": 4,
  "nbformat_minor": 0,
  "metadata": {
    "colab": {
      "provenance": []
    },
    "kernelspec": {
      "name": "python3",
      "display_name": "Python 3"
    },
    "language_info": {
      "name": "python"
    }
  },
  "cells": [
    {
      "cell_type": "code",
      "execution_count": 1,
      "metadata": {
        "id": "mr5WJgy2SJK8"
      },
      "outputs": [],
      "source": [
        "#class and object"
      ]
    },
    {
      "cell_type": "code",
      "source": [
        "#define a class\n",
        "class Stu:\n",
        "  #variable #class variables\n",
        "  teach_name = \"Prabhjot Singh\"\n",
        "  #method\n",
        "  def show(self):\n",
        "    print(\"Hello! Welcome to the session\")\n",
        "\n",
        "s1 = Stu()"
      ],
      "metadata": {
        "id": "1ja4-a0-S1ho"
      },
      "execution_count": 9,
      "outputs": []
    },
    {
      "cell_type": "code",
      "source": [
        "#Stu class has any attributes yes or no\n",
        "Stu.__dict__\n"
      ],
      "metadata": {
        "colab": {
          "base_uri": "https://localhost:8080/"
        },
        "id": "lpxdZa8ZVYpD",
        "outputId": "a2f519b3-edd7-4c1f-e120-affb2eb72ba9"
      },
      "execution_count": 10,
      "outputs": [
        {
          "output_type": "execute_result",
          "data": {
            "text/plain": [
              "mappingproxy({'__module__': '__main__',\n",
              "              'teach_name': 'Prabhjot Singh',\n",
              "              'show': <function __main__.Stu.show(self)>,\n",
              "              '__dict__': <attribute '__dict__' of 'Stu' objects>,\n",
              "              '__weakref__': <attribute '__weakref__' of 'Stu' objects>,\n",
              "              '__doc__': None,\n",
              "              '__annotations__': {}})"
            ]
          },
          "metadata": {},
          "execution_count": 10
        }
      ]
    },
    {
      "cell_type": "code",
      "source": [
        "s1.__dict__"
      ],
      "metadata": {
        "colab": {
          "base_uri": "https://localhost:8080/"
        },
        "id": "MAdqh1bfV0bn",
        "outputId": "1c61696f-697b-4978-9c9f-9d2a13918dc8"
      },
      "execution_count": 11,
      "outputs": [
        {
          "output_type": "execute_result",
          "data": {
            "text/plain": [
              "{}"
            ]
          },
          "metadata": {},
          "execution_count": 11
        }
      ]
    },
    {
      "cell_type": "code",
      "source": [
        "print(s1.teach_name)"
      ],
      "metadata": {
        "colab": {
          "base_uri": "https://localhost:8080/"
        },
        "id": "zaHszrHdTXdZ",
        "outputId": "175b0879-73f6-451a-9978-59f814ded9ef"
      },
      "execution_count": 5,
      "outputs": [
        {
          "output_type": "stream",
          "name": "stdout",
          "text": [
            "Prabhjot Singh\n"
          ]
        }
      ]
    },
    {
      "cell_type": "code",
      "source": [
        "s1.show()"
      ],
      "metadata": {
        "colab": {
          "base_uri": "https://localhost:8080/"
        },
        "id": "JqU2v7rTURoE",
        "outputId": "94b6fc07-25e9-4e49-ae4c-4dd99b6c3c08"
      },
      "execution_count": 8,
      "outputs": [
        {
          "output_type": "stream",
          "name": "stdout",
          "text": [
            "Hello! Welcome to the session\n"
          ]
        }
      ]
    },
    {
      "cell_type": "markdown",
      "source": [
        "#object or class we can create attributes, check , set, get"
      ],
      "metadata": {
        "id": "NCYufi_iV7Pb"
      }
    },
    {
      "cell_type": "code",
      "source": [
        "#1. get method - to get the value of a specific attriute"
      ],
      "metadata": {
        "id": "DMyP-QS3WE9l"
      },
      "execution_count": 12,
      "outputs": []
    },
    {
      "cell_type": "code",
      "source": [
        "#define a class\n",
        "class Stu:\n",
        "  #variable #class variables\n",
        "  teach_name = \"Prabhjot Singh\"\n",
        "  #method\n",
        "  def show(self):\n",
        "    print(\"Hello! Welcome to the session\")\n",
        "\n",
        "s2 = Stu()"
      ],
      "metadata": {
        "id": "Cttc8h29WLD9"
      },
      "execution_count": 13,
      "outputs": []
    },
    {
      "cell_type": "code",
      "source": [
        "s2.__dict__"
      ],
      "metadata": {
        "colab": {
          "base_uri": "https://localhost:8080/"
        },
        "id": "pkPtpeMRWVWj",
        "outputId": "93fb953b-c25b-4268-9ec0-c49d09bd3680"
      },
      "execution_count": 15,
      "outputs": [
        {
          "output_type": "execute_result",
          "data": {
            "text/plain": [
              "{}"
            ]
          },
          "metadata": {},
          "execution_count": 15
        }
      ]
    },
    {
      "cell_type": "code",
      "source": [
        "#i want to assign a new attribute to this object s2\n",
        "setattr(s2,'name','Ahmad')"
      ],
      "metadata": {
        "id": "IFz85Wr5WXgx"
      },
      "execution_count": 16,
      "outputs": []
    },
    {
      "cell_type": "code",
      "source": [
        "s2.__dict__"
      ],
      "metadata": {
        "colab": {
          "base_uri": "https://localhost:8080/"
        },
        "id": "mI3r7W7XWpRe",
        "outputId": "af803e26-ff4d-4c6d-91bf-301fb71c04f4"
      },
      "execution_count": 17,
      "outputs": [
        {
          "output_type": "execute_result",
          "data": {
            "text/plain": [
              "{'name': 'Ahmad'}"
            ]
          },
          "metadata": {},
          "execution_count": 17
        }
      ]
    },
    {
      "cell_type": "code",
      "source": [
        "hasattr(s2,'name')"
      ],
      "metadata": {
        "colab": {
          "base_uri": "https://localhost:8080/"
        },
        "id": "Z4vQPc5RWrJ_",
        "outputId": "798511fd-1f28-4ee6-e2a9-7279bbea1583"
      },
      "execution_count": 19,
      "outputs": [
        {
          "output_type": "execute_result",
          "data": {
            "text/plain": [
              "True"
            ]
          },
          "metadata": {},
          "execution_count": 19
        }
      ]
    },
    {
      "cell_type": "code",
      "source": [
        "hasattr(s2,'roll')"
      ],
      "metadata": {
        "colab": {
          "base_uri": "https://localhost:8080/"
        },
        "id": "Tv_U9JCkWx1P",
        "outputId": "a8f677cd-8c23-4f7e-fdf6-4b5cc4f6a7a9"
      },
      "execution_count": 21,
      "outputs": [
        {
          "output_type": "execute_result",
          "data": {
            "text/plain": [
              "False"
            ]
          },
          "metadata": {},
          "execution_count": 21
        }
      ]
    },
    {
      "cell_type": "code",
      "source": [
        "#get\n",
        "getattr(s2,'name')"
      ],
      "metadata": {
        "colab": {
          "base_uri": "https://localhost:8080/",
          "height": 36
        },
        "id": "G7HipSObW6F4",
        "outputId": "609e67fd-f6af-403a-cb51-01549ac050c5"
      },
      "execution_count": 22,
      "outputs": [
        {
          "output_type": "execute_result",
          "data": {
            "text/plain": [
              "'Ahmad'"
            ],
            "application/vnd.google.colaboratory.intrinsic+json": {
              "type": "string"
            }
          },
          "metadata": {},
          "execution_count": 22
        }
      ]
    },
    {
      "cell_type": "code",
      "source": [
        "#delete the attrbute\n",
        "delattr(s2,'name')"
      ],
      "metadata": {
        "id": "jemmT8RNW_r8"
      },
      "execution_count": 23,
      "outputs": []
    },
    {
      "cell_type": "code",
      "source": [
        "#inheritance,polymorphism"
      ],
      "metadata": {
        "id": "UuLvkcn-XsG9"
      },
      "execution_count": null,
      "outputs": []
    },
    {
      "cell_type": "code",
      "source": [
        "s2.__dict__"
      ],
      "metadata": {
        "colab": {
          "base_uri": "https://localhost:8080/"
        },
        "id": "bxeAcIKCXPSa",
        "outputId": "ac8ca7db-9780-43c1-b9b6-b12f317be522"
      },
      "execution_count": 24,
      "outputs": [
        {
          "output_type": "execute_result",
          "data": {
            "text/plain": [
              "{}"
            ]
          },
          "metadata": {},
          "execution_count": 24
        }
      ]
    }
  ]
}