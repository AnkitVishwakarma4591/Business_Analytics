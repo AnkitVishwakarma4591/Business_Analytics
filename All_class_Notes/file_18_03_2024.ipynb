{
 "cells": [
  {
   "cell_type": "code",
   "execution_count": 1,
   "id": "bfafdad6-8bb3-4c96-96fe-f966314896bf",
   "metadata": {
    "tags": []
   },
   "outputs": [],
   "source": [
    "#dictionary and set"
   ]
  },
  {
   "cell_type": "code",
   "execution_count": 2,
   "id": "376807cc-a5b8-44b2-95b7-49c2d5db591d",
   "metadata": {
    "tags": []
   },
   "outputs": [],
   "source": [
    "#list- data stores at index\n",
    "#tuple - index\n",
    "#dictionary - key-value pair"
   ]
  },
  {
   "cell_type": "code",
   "execution_count": 3,
   "id": "24f67982-3d40-4f92-ad70-93c49500f2be",
   "metadata": {
    "tags": []
   },
   "outputs": [],
   "source": [
    "d = {101:\"Prabhjot\",102:\"Kishan\",103:[10,20,30]}"
   ]
  },
  {
   "cell_type": "code",
   "execution_count": 5,
   "id": "e63d109f-49e0-406a-b7cf-bc18c7002458",
   "metadata": {
    "tags": []
   },
   "outputs": [
    {
     "data": {
      "text/plain": [
       "dict"
      ]
     },
     "execution_count": 5,
     "metadata": {},
     "output_type": "execute_result"
    }
   ],
   "source": [
    "type(d)"
   ]
  },
  {
   "cell_type": "code",
   "execution_count": 8,
   "id": "4399dd69-f3ba-4376-aec0-71434e5b30c5",
   "metadata": {
    "tags": []
   },
   "outputs": [
    {
     "data": {
      "text/plain": [
       "str"
      ]
     },
     "execution_count": 8,
     "metadata": {},
     "output_type": "execute_result"
    }
   ],
   "source": [
    "#how to access the value\n",
    "type(d[101])"
   ]
  },
  {
   "cell_type": "code",
   "execution_count": 10,
   "id": "159e7b2e-d9f3-4c47-9a44-defe47d201e2",
   "metadata": {
    "tags": []
   },
   "outputs": [
    {
     "data": {
      "text/plain": [
       "str"
      ]
     },
     "execution_count": 10,
     "metadata": {},
     "output_type": "execute_result"
    }
   ],
   "source": [
    "type(d[102])"
   ]
  },
  {
   "cell_type": "code",
   "execution_count": 12,
   "id": "8d27acbd-a1d1-488e-8031-88c63f84fce3",
   "metadata": {
    "tags": []
   },
   "outputs": [
    {
     "data": {
      "text/plain": [
       "list"
      ]
     },
     "execution_count": 12,
     "metadata": {},
     "output_type": "execute_result"
    }
   ],
   "source": [
    "type(d[103])"
   ]
  },
  {
   "cell_type": "code",
   "execution_count": 13,
   "id": "28b9ba34-bb0d-46e3-a7e8-2c7f0b1886c5",
   "metadata": {
    "tags": []
   },
   "outputs": [
    {
     "data": {
      "text/plain": [
       "'Prabhjot'"
      ]
     },
     "execution_count": 13,
     "metadata": {},
     "output_type": "execute_result"
    }
   ],
   "source": [
    "#get method\n",
    "d.get(101)"
   ]
  },
  {
   "cell_type": "code",
   "execution_count": 14,
   "id": "8b477f91-e94f-47af-88a7-0b98a502de02",
   "metadata": {
    "tags": []
   },
   "outputs": [
    {
     "data": {
      "text/plain": [
       "{101: 'Prabhjot', 102: 'Kishan', 103: [10, 20, 30]}"
      ]
     },
     "execution_count": 14,
     "metadata": {},
     "output_type": "execute_result"
    }
   ],
   "source": [
    "d"
   ]
  },
  {
   "cell_type": "code",
   "execution_count": 16,
   "id": "4543ee10-f44b-4332-80cd-e06e93f47e73",
   "metadata": {
    "tags": []
   },
   "outputs": [],
   "source": [
    "#we can update the values \n",
    "d[101] = 20000"
   ]
  },
  {
   "cell_type": "code",
   "execution_count": 17,
   "id": "46035e70-20e1-4bf9-94e9-7af33ffaa998",
   "metadata": {
    "tags": []
   },
   "outputs": [
    {
     "data": {
      "text/plain": [
       "{101: 20000, 102: 'Kishan', 103: [10, 20, 30]}"
      ]
     },
     "execution_count": 17,
     "metadata": {},
     "output_type": "execute_result"
    }
   ],
   "source": [
    "d"
   ]
  },
  {
   "cell_type": "code",
   "execution_count": 18,
   "id": "123a42ab-a0f7-423c-8a55-c6cdb0941728",
   "metadata": {
    "tags": []
   },
   "outputs": [],
   "source": [
    "#to update the data in a dictionary\n",
    "d.update({101:\"Aishaya\"})"
   ]
  },
  {
   "cell_type": "code",
   "execution_count": 19,
   "id": "13b14e4c-91a4-4c28-b4c2-244c96b91088",
   "metadata": {
    "tags": []
   },
   "outputs": [
    {
     "name": "stdout",
     "output_type": "stream",
     "text": [
      "{101: 'Aishaya', 102: 'Kishan', 103: [10, 20, 30]}\n"
     ]
    }
   ],
   "source": [
    "print(d)"
   ]
  },
  {
   "cell_type": "code",
   "execution_count": 20,
   "id": "63739d33-107c-4ddd-a788-b8aae91ac3a8",
   "metadata": {
    "tags": []
   },
   "outputs": [],
   "source": [
    "d.update({101:5000,102:10000})"
   ]
  },
  {
   "cell_type": "code",
   "execution_count": 22,
   "id": "1332672f-1349-4f62-a527-eae484689e1f",
   "metadata": {
    "tags": []
   },
   "outputs": [
    {
     "data": {
      "text/plain": [
       "{101: 5000, 102: 10000, 103: [10, 20, 30]}"
      ]
     },
     "execution_count": 22,
     "metadata": {},
     "output_type": "execute_result"
    }
   ],
   "source": [
    "#add a new item in a dictionary\n",
    "#assignment operator\n",
    "d"
   ]
  },
  {
   "cell_type": "code",
   "execution_count": 25,
   "id": "65e77abf-6268-4117-a0c0-0d85926fdb5b",
   "metadata": {
    "tags": []
   },
   "outputs": [],
   "source": [
    "d[104] = \"Gungun\""
   ]
  },
  {
   "cell_type": "code",
   "execution_count": 26,
   "id": "4140c3fe-e585-463a-926f-998026e9db2c",
   "metadata": {
    "tags": []
   },
   "outputs": [
    {
     "data": {
      "text/plain": [
       "{101: 5000, 102: 10000, 103: [10, 20, 30], 104: 'Gungun'}"
      ]
     },
     "execution_count": 26,
     "metadata": {},
     "output_type": "execute_result"
    }
   ],
   "source": [
    "d"
   ]
  },
  {
   "cell_type": "code",
   "execution_count": 29,
   "id": "c2c05fce-080a-4cae-b108-0545e1d13e36",
   "metadata": {
    "tags": []
   },
   "outputs": [],
   "source": [
    "d.update({103:\"Prabhjot\"})"
   ]
  },
  {
   "cell_type": "code",
   "execution_count": 30,
   "id": "fe4b563f-f18c-4b80-9abc-7e2b0b547d86",
   "metadata": {
    "tags": []
   },
   "outputs": [
    {
     "data": {
      "text/plain": [
       "{101: 5000, 102: 10000, 103: 'Prabhjot', 104: 'Gungun'}"
      ]
     },
     "execution_count": 30,
     "metadata": {},
     "output_type": "execute_result"
    }
   ],
   "source": [
    "d"
   ]
  },
  {
   "cell_type": "code",
   "execution_count": 31,
   "id": "be67a556-232e-426b-a284-0d85c26a4c47",
   "metadata": {
    "tags": []
   },
   "outputs": [],
   "source": [
    "d.update({105:\"Akrati\"})"
   ]
  },
  {
   "cell_type": "code",
   "execution_count": 32,
   "id": "73e807e5-6299-4808-a671-111cd0c2d5ca",
   "metadata": {
    "tags": []
   },
   "outputs": [
    {
     "data": {
      "text/plain": [
       "{101: 5000, 102: 10000, 103: 'Prabhjot', 104: 'Gungun', 105: 'Akrati'}"
      ]
     },
     "execution_count": 32,
     "metadata": {},
     "output_type": "execute_result"
    }
   ],
   "source": [
    "d"
   ]
  },
  {
   "cell_type": "code",
   "execution_count": 33,
   "id": "e4584d39-81d1-4ba1-898f-05e2fcbbc7f0",
   "metadata": {
    "tags": []
   },
   "outputs": [],
   "source": [
    "#remove the items in the dictionary"
   ]
  },
  {
   "cell_type": "code",
   "execution_count": 34,
   "id": "c5d19bb6-57e6-4e5d-8759-a865fe1eda53",
   "metadata": {
    "tags": []
   },
   "outputs": [
    {
     "data": {
      "text/plain": [
       "5000"
      ]
     },
     "execution_count": 34,
     "metadata": {},
     "output_type": "execute_result"
    }
   ],
   "source": [
    "d.pop(101)"
   ]
  },
  {
   "cell_type": "code",
   "execution_count": 35,
   "id": "63ae2f6f-8e1a-4696-8dd6-e9c0e6fc97d7",
   "metadata": {
    "tags": []
   },
   "outputs": [
    {
     "data": {
      "text/plain": [
       "{102: 10000, 103: 'Prabhjot', 104: 'Gungun', 105: 'Akrati'}"
      ]
     },
     "execution_count": 35,
     "metadata": {},
     "output_type": "execute_result"
    }
   ],
   "source": [
    "d"
   ]
  },
  {
   "cell_type": "code",
   "execution_count": 36,
   "id": "c5afd0b5-c0b1-4f60-8ed3-6247078e424e",
   "metadata": {
    "tags": []
   },
   "outputs": [
    {
     "ename": "KeyError",
     "evalue": "106",
     "output_type": "error",
     "traceback": [
      "\u001b[1;31m---------------------------------------------------------------------------\u001b[0m",
      "\u001b[1;31mKeyError\u001b[0m                                  Traceback (most recent call last)",
      "Cell \u001b[1;32mIn[36], line 1\u001b[0m\n\u001b[1;32m----> 1\u001b[0m d\u001b[38;5;241m.\u001b[39mpop(\u001b[38;5;241m106\u001b[39m)\n",
      "\u001b[1;31mKeyError\u001b[0m: 106"
     ]
    }
   ],
   "source": [
    "d.pop(106)"
   ]
  },
  {
   "cell_type": "code",
   "execution_count": 37,
   "id": "2dbba037-3800-47a9-b5cc-f9223bec3141",
   "metadata": {
    "tags": []
   },
   "outputs": [
    {
     "data": {
      "text/plain": [
       "{102: 10000, 103: 'Prabhjot', 104: 'Gungun', 105: 'Akrati'}"
      ]
     },
     "execution_count": 37,
     "metadata": {},
     "output_type": "execute_result"
    }
   ],
   "source": [
    "d"
   ]
  },
  {
   "cell_type": "code",
   "execution_count": 38,
   "id": "9e9fee0b-e349-46a0-b753-5cc436842f9e",
   "metadata": {
    "tags": []
   },
   "outputs": [],
   "source": [
    "r = {'A':101,'B':102}"
   ]
  },
  {
   "cell_type": "code",
   "execution_count": 39,
   "id": "37f30a51-dfae-4266-844c-112031b2faae",
   "metadata": {
    "tags": []
   },
   "outputs": [
    {
     "data": {
      "text/plain": [
       "{'A': 101, 'B': 102}"
      ]
     },
     "execution_count": 39,
     "metadata": {},
     "output_type": "execute_result"
    }
   ],
   "source": [
    "r"
   ]
  },
  {
   "cell_type": "code",
   "execution_count": 40,
   "id": "a24f47ee-6432-4c42-a362-f8f00925561a",
   "metadata": {
    "tags": []
   },
   "outputs": [
    {
     "data": {
      "text/plain": [
       "{102: 10000, 103: 'Prabhjot', 104: 'Gungun', 105: 'Akrati'}"
      ]
     },
     "execution_count": 40,
     "metadata": {},
     "output_type": "execute_result"
    }
   ],
   "source": [
    "d"
   ]
  },
  {
   "cell_type": "code",
   "execution_count": 41,
   "id": "8a947e8d-d5e3-4491-a91b-72120bbfbb89",
   "metadata": {
    "tags": []
   },
   "outputs": [
    {
     "data": {
      "text/plain": [
       "(105, 'Akrati')"
      ]
     },
     "execution_count": 41,
     "metadata": {},
     "output_type": "execute_result"
    }
   ],
   "source": [
    "#u want to delete the last inserted item\n",
    "d.popitem()"
   ]
  },
  {
   "cell_type": "code",
   "execution_count": 44,
   "id": "6a4b903a-432b-4a6e-a736-7bc952f4aaa2",
   "metadata": {
    "tags": []
   },
   "outputs": [
    {
     "name": "stdout",
     "output_type": "stream",
     "text": [
      "1,2,3,4,5,"
     ]
    }
   ],
   "source": [
    "l = [1,2,3,4,5]\n",
    "\n",
    "for i in range(0,len(l)):\n",
    "    print(l[i],end=\",\")"
   ]
  },
  {
   "cell_type": "code",
   "execution_count": 46,
   "id": "11e246fa-7020-4a18-b1e7-2ee6ebe3427e",
   "metadata": {
    "tags": []
   },
   "outputs": [
    {
     "name": "stdout",
     "output_type": "stream",
     "text": [
      "10000\n",
      "Prabhjot\n",
      "Gungun\n"
     ]
    }
   ],
   "source": [
    "print(d[102])\n",
    "print(d[103])\n",
    "print(d[104])\n",
    "      "
   ]
  },
  {
   "cell_type": "code",
   "execution_count": 48,
   "id": "f344b33f-d632-4d33-b13b-ff88ca48666e",
   "metadata": {
    "tags": []
   },
   "outputs": [
    {
     "name": "stdout",
     "output_type": "stream",
     "text": [
      "10000\n",
      "Prabhjot\n",
      "Gungun\n"
     ]
    }
   ],
   "source": [
    "#methods\n",
    "for i in d.keys():\n",
    "    print(d[i])"
   ]
  },
  {
   "cell_type": "code",
   "execution_count": 50,
   "id": "448be588-2d39-4969-8ce6-e3e567e40a84",
   "metadata": {
    "tags": []
   },
   "outputs": [
    {
     "name": "stdout",
     "output_type": "stream",
     "text": [
      "dict_keys([102, 103, 104])\n"
     ]
    }
   ],
   "source": [
    "print(d.keys())"
   ]
  },
  {
   "cell_type": "code",
   "execution_count": 51,
   "id": "74ae2170-d328-4854-950c-f17528bb42a5",
   "metadata": {
    "tags": []
   },
   "outputs": [
    {
     "name": "stdout",
     "output_type": "stream",
     "text": [
      "dict_values([10000, 'Prabhjot', 'Gungun'])\n"
     ]
    }
   ],
   "source": [
    "print(d.values())"
   ]
  },
  {
   "cell_type": "code",
   "execution_count": 52,
   "id": "1c9f345d-a5aa-4128-b1b1-91f7af75647f",
   "metadata": {
    "tags": []
   },
   "outputs": [
    {
     "name": "stdout",
     "output_type": "stream",
     "text": [
      "dict_items([(102, 10000), (103, 'Prabhjot'), (104, 'Gungun')])\n"
     ]
    }
   ],
   "source": [
    "print(d.items())"
   ]
  },
  {
   "cell_type": "code",
   "execution_count": 62,
   "id": "7c148014-46a1-49d6-93ec-7ed708d0c4f0",
   "metadata": {
    "tags": []
   },
   "outputs": [
    {
     "name": "stdout",
     "output_type": "stream",
     "text": [
      "101 Prabh\n",
      "102 chanda\n"
     ]
    }
   ],
   "source": [
    "for key,value in d.items():\n",
    "    print(key,d[key])"
   ]
  },
  {
   "cell_type": "code",
   "execution_count": 54,
   "id": "ce1a24a0-3abb-4e5f-a046-56ae5c0238f6",
   "metadata": {
    "tags": []
   },
   "outputs": [],
   "source": [
    "d = {}"
   ]
  },
  {
   "cell_type": "code",
   "execution_count": 56,
   "id": "34bf08de-2a81-4930-9555-26822e85960f",
   "metadata": {
    "tags": []
   },
   "outputs": [],
   "source": [
    "d.update({101:\"Prabh\",102:\"chanda\"})"
   ]
  },
  {
   "cell_type": "code",
   "execution_count": 57,
   "id": "27159a87-a45b-41cd-9932-49aac2b4329b",
   "metadata": {
    "tags": []
   },
   "outputs": [
    {
     "data": {
      "text/plain": [
       "{101: 'Prabh', 102: 'chanda'}"
      ]
     },
     "execution_count": 57,
     "metadata": {},
     "output_type": "execute_result"
    }
   ],
   "source": [
    "d"
   ]
  },
  {
   "cell_type": "code",
   "execution_count": 58,
   "id": "22a26986-bd9f-43b3-9528-197ec2ef21fb",
   "metadata": {
    "tags": []
   },
   "outputs": [],
   "source": [
    "d.update({103:\"kishan\"})"
   ]
  },
  {
   "cell_type": "code",
   "execution_count": 59,
   "id": "81315cb3-75de-4dee-99e6-f2d093b7a2f6",
   "metadata": {
    "tags": []
   },
   "outputs": [
    {
     "data": {
      "text/plain": [
       "{101: 'Prabh', 102: 'chanda', 103: 'kishan'}"
      ]
     },
     "execution_count": 59,
     "metadata": {},
     "output_type": "execute_result"
    }
   ],
   "source": [
    "d"
   ]
  },
  {
   "cell_type": "code",
   "execution_count": 60,
   "id": "4ab06c02-e558-4914-aa87-7d02c49d3042",
   "metadata": {
    "tags": []
   },
   "outputs": [
    {
     "data": {
      "text/plain": [
       "(103, 'kishan')"
      ]
     },
     "execution_count": 60,
     "metadata": {},
     "output_type": "execute_result"
    }
   ],
   "source": [
    "d.popitem()"
   ]
  },
  {
   "cell_type": "code",
   "execution_count": 61,
   "id": "893c4f57-0bba-4b58-8d9e-3bbfabf795f5",
   "metadata": {
    "tags": []
   },
   "outputs": [
    {
     "data": {
      "text/plain": [
       "{101: 'Prabh', 102: 'chanda'}"
      ]
     },
     "execution_count": 61,
     "metadata": {},
     "output_type": "execute_result"
    }
   ],
   "source": [
    "d"
   ]
  },
  {
   "cell_type": "code",
   "execution_count": 70,
   "id": "c42e3b14-501c-45ae-90f2-d76c62b19a34",
   "metadata": {
    "tags": []
   },
   "outputs": [
    {
     "data": {
      "text/plain": [
       "{101: 'Prabh', 102: 'chanda'}"
      ]
     },
     "execution_count": 70,
     "metadata": {},
     "output_type": "execute_result"
    }
   ],
   "source": [
    "d"
   ]
  },
  {
   "cell_type": "code",
   "execution_count": 64,
   "id": "4d4470ef-4b18-4c38-b2cc-35a4d8cd223c",
   "metadata": {
    "tags": []
   },
   "outputs": [
    {
     "data": {
      "text/plain": [
       "'Prabh'"
      ]
     },
     "execution_count": 64,
     "metadata": {},
     "output_type": "execute_result"
    }
   ],
   "source": [
    "d.get(101)"
   ]
  },
  {
   "cell_type": "code",
   "execution_count": 66,
   "id": "11dd0f69-20eb-4aa0-90e4-00f1840f1f46",
   "metadata": {
    "tags": []
   },
   "outputs": [],
   "source": [
    "d.get(103)"
   ]
  },
  {
   "cell_type": "code",
   "execution_count": 67,
   "id": "263ffa43-f8ab-4a93-ba68-8154534bf4f4",
   "metadata": {
    "tags": []
   },
   "outputs": [],
   "source": [
    "#setdefault"
   ]
  },
  {
   "cell_type": "code",
   "execution_count": 69,
   "id": "784dc265-cb7a-443f-ad83-7a7e48af4735",
   "metadata": {
    "tags": []
   },
   "outputs": [
    {
     "data": {
      "text/plain": [
       "'Prabh'"
      ]
     },
     "execution_count": 69,
     "metadata": {},
     "output_type": "execute_result"
    }
   ],
   "source": [
    "d.setdefault(101)"
   ]
  },
  {
   "cell_type": "code",
   "execution_count": 71,
   "id": "9094fce5-0978-4ce0-bc2a-4c82c88d98e8",
   "metadata": {
    "tags": []
   },
   "outputs": [
    {
     "data": {
      "text/plain": [
       "'kishan'"
      ]
     },
     "execution_count": 71,
     "metadata": {},
     "output_type": "execute_result"
    }
   ],
   "source": [
    "d.setdefault(103,\"kishan\")"
   ]
  },
  {
   "cell_type": "code",
   "execution_count": 72,
   "id": "8d7d9efa-aa05-4a35-8fb1-90c43d8dce62",
   "metadata": {
    "tags": []
   },
   "outputs": [
    {
     "data": {
      "text/plain": [
       "{101: 'Prabh', 102: 'chanda', 103: 'kishan'}"
      ]
     },
     "execution_count": 72,
     "metadata": {},
     "output_type": "execute_result"
    }
   ],
   "source": [
    "d"
   ]
  },
  {
   "cell_type": "code",
   "execution_count": 76,
   "id": "4b152774-7e33-40d3-826a-9b79861e0073",
   "metadata": {
    "tags": []
   },
   "outputs": [
    {
     "data": {
      "text/plain": [
       "'yogesh'"
      ]
     },
     "execution_count": 76,
     "metadata": {},
     "output_type": "execute_result"
    }
   ],
   "source": [
    "d.setdefault(105,\"yogesh\")"
   ]
  },
  {
   "cell_type": "code",
   "execution_count": 77,
   "id": "4d6479eb-036e-4926-81d7-e071fd6eeb59",
   "metadata": {
    "tags": []
   },
   "outputs": [
    {
     "data": {
      "text/plain": [
       "{101: 'Prabh', 102: 'chanda', 103: 'kishan', 104: None, 105: 'yogesh'}"
      ]
     },
     "execution_count": 77,
     "metadata": {},
     "output_type": "execute_result"
    }
   ],
   "source": [
    "d"
   ]
  },
  {
   "cell_type": "code",
   "execution_count": 78,
   "id": "1e4058f7-0f46-4c02-aef1-1337507c71b2",
   "metadata": {
    "tags": []
   },
   "outputs": [
    {
     "data": {
      "text/plain": [
       "'kishan'"
      ]
     },
     "execution_count": 78,
     "metadata": {},
     "output_type": "execute_result"
    }
   ],
   "source": [
    "d.setdefault(103,\"Ankit\")"
   ]
  },
  {
   "cell_type": "code",
   "execution_count": 85,
   "id": "5a8e4a18-81c4-4473-9df2-ad536ae1257e",
   "metadata": {
    "tags": []
   },
   "outputs": [],
   "source": [
    "#example\n",
    "l = [1,1,2,3,4,3,2,3,4,3,2,4]\n",
    "l1= [1,2,3,4]\n",
    "#unique values 1,2,3,4"
   ]
  },
  {
   "cell_type": "code",
   "execution_count": 86,
   "id": "08c97530-f30e-4171-8e27-eca5e400ec0c",
   "metadata": {
    "tags": []
   },
   "outputs": [
    {
     "name": "stdout",
     "output_type": "stream",
     "text": [
      "2\n",
      "3\n",
      "4\n",
      "3\n"
     ]
    }
   ],
   "source": [
    "for i in l1:\n",
    "    print(l.count(i))"
   ]
  },
  {
   "cell_type": "code",
   "execution_count": 81,
   "id": "7beb78f7-90a6-4631-9d01-a303371237f9",
   "metadata": {
    "tags": []
   },
   "outputs": [
    {
     "data": {
      "text/plain": [
       "2"
      ]
     },
     "execution_count": 81,
     "metadata": {},
     "output_type": "execute_result"
    }
   ],
   "source": [
    "l.count(1)"
   ]
  },
  {
   "cell_type": "code",
   "execution_count": 82,
   "id": "aaf5b13d-3570-449d-b9f4-095623f16e44",
   "metadata": {
    "tags": []
   },
   "outputs": [
    {
     "data": {
      "text/plain": [
       "3"
      ]
     },
     "execution_count": 82,
     "metadata": {},
     "output_type": "execute_result"
    }
   ],
   "source": [
    "l.count(2)"
   ]
  },
  {
   "cell_type": "code",
   "execution_count": 83,
   "id": "964477e5-0551-4245-a331-75205bb014e4",
   "metadata": {
    "tags": []
   },
   "outputs": [
    {
     "data": {
      "text/plain": [
       "4"
      ]
     },
     "execution_count": 83,
     "metadata": {},
     "output_type": "execute_result"
    }
   ],
   "source": [
    "l.count(3)"
   ]
  },
  {
   "cell_type": "code",
   "execution_count": 84,
   "id": "f34887a2-be43-4a36-8d16-a7cf2890ea72",
   "metadata": {
    "tags": []
   },
   "outputs": [
    {
     "data": {
      "text/plain": [
       "3"
      ]
     },
     "execution_count": 84,
     "metadata": {},
     "output_type": "execute_result"
    }
   ],
   "source": [
    "l.count(4)"
   ]
  },
  {
   "cell_type": "code",
   "execution_count": 88,
   "id": "da3eb1b1-cd4d-46bb-a694-f44ca6caef8f",
   "metadata": {
    "tags": []
   },
   "outputs": [],
   "source": [
    "l =[1,2,1,2,3,2,3,2,3,4,1]\n",
    "d = {}"
   ]
  },
  {
   "cell_type": "code",
   "execution_count": 89,
   "id": "1a2d2cde-f019-4053-b9a0-ecc49f5d972d",
   "metadata": {
    "tags": []
   },
   "outputs": [],
   "source": [
    "for i in l:\n",
    "    if i in d:\n",
    "        d[i]=d.get(i)+1\n",
    "    else:\n",
    "        d[i]=1\n",
    "        "
   ]
  },
  {
   "cell_type": "code",
   "execution_count": 90,
   "id": "7173dae6-fc70-4719-8c28-9ff989f101f7",
   "metadata": {
    "tags": []
   },
   "outputs": [
    {
     "data": {
      "text/plain": [
       "{1: 3, 2: 4, 3: 3, 4: 1}"
      ]
     },
     "execution_count": 90,
     "metadata": {},
     "output_type": "execute_result"
    }
   ],
   "source": [
    "d"
   ]
  },
  {
   "cell_type": "code",
   "execution_count": null,
   "id": "bcce6432-afbf-4d4c-a90d-06621e4ede00",
   "metadata": {},
   "outputs": [],
   "source": []
  },
  {
   "cell_type": "code",
   "execution_count": null,
   "id": "f5434df1-c489-46a1-8658-c890f6a4a2d5",
   "metadata": {},
   "outputs": [],
   "source": []
  },
  {
   "cell_type": "code",
   "execution_count": null,
   "id": "09f22dde-e819-41fa-9c1c-8ecdec99f318",
   "metadata": {},
   "outputs": [],
   "source": []
  },
  {
   "cell_type": "code",
   "execution_count": null,
   "id": "1407c105-6561-4d4a-b617-53b0be5c2724",
   "metadata": {},
   "outputs": [],
   "source": []
  },
  {
   "cell_type": "code",
   "execution_count": null,
   "id": "e63e7b9d-27b2-4bd9-bfab-ba8b4b1e1c65",
   "metadata": {},
   "outputs": [],
   "source": []
  },
  {
   "cell_type": "code",
   "execution_count": null,
   "id": "74bb3b9d-1d3f-4a51-ae4b-e4a28357a3e6",
   "metadata": {},
   "outputs": [],
   "source": []
  },
  {
   "cell_type": "code",
   "execution_count": null,
   "id": "75eca9a5-8ad8-4c1b-a9e3-de13f3b01840",
   "metadata": {},
   "outputs": [],
   "source": []
  },
  {
   "cell_type": "code",
   "execution_count": null,
   "id": "44e02a93-d99d-4db4-802e-2a2ab00bf94a",
   "metadata": {},
   "outputs": [],
   "source": []
  }
 ],
 "metadata": {
  "kernelspec": {
   "display_name": "Python 3 (ipykernel)",
   "language": "python",
   "name": "python3"
  },
  "language_info": {
   "codemirror_mode": {
    "name": "ipython",
    "version": 3
   },
   "file_extension": ".py",
   "mimetype": "text/x-python",
   "name": "python",
   "nbconvert_exporter": "python",
   "pygments_lexer": "ipython3",
   "version": "3.11.4"
  }
 },
 "nbformat": 4,
 "nbformat_minor": 5
}
