{
 "cells": [
  {
   "cell_type": "code",
   "execution_count": 2,
   "id": "963613ec-030f-4db5-9153-6637f043ed9e",
   "metadata": {
    "tags": []
   },
   "outputs": [],
   "source": [
    "#operators\n",
    "#airthmetic,assignment,comparison operators\n",
    "#type casting\n",
    "#variables\n",
    "#data types"
   ]
  },
  {
   "cell_type": "code",
   "execution_count": 3,
   "id": "0d2db171-46a9-4a16-92bf-d4aed2dca2ee",
   "metadata": {
    "tags": []
   },
   "outputs": [],
   "source": [
    "#logical operators\n",
    "#and , or and not\n",
    "#when we have to check the conditions"
   ]
  },
  {
   "cell_type": "code",
   "execution_count": 5,
   "id": "5ad00022-a885-41dc-a22e-20f8fd67555b",
   "metadata": {
    "tags": []
   },
   "outputs": [
    {
     "data": {
      "text/plain": [
       "True"
      ]
     },
     "execution_count": 5,
     "metadata": {},
     "output_type": "execute_result"
    }
   ],
   "source": [
    "(10>5) and (20>10)"
   ]
  },
  {
   "cell_type": "code",
   "execution_count": 9,
   "id": "fdfe26e8-855c-4bb8-9d77-7096e8f16fb9",
   "metadata": {
    "tags": []
   },
   "outputs": [
    {
     "name": "stdin",
     "output_type": "stream",
     "text": [
      "Enter the number 6\n"
     ]
    },
    {
     "name": "stdout",
     "output_type": "stream",
     "text": [
      "Bye\n"
     ]
    }
   ],
   "source": [
    "num = int(input(\"Enter the number\"))\n",
    "\n",
    "if(num>6 and num%2==0):\n",
    "    print(\"Hello\")\n",
    "else:\n",
    "    print(\"Bye\")"
   ]
  },
  {
   "cell_type": "code",
   "execution_count": 10,
   "id": "96d55e74-91f6-4e1d-8d9a-5c959edb5483",
   "metadata": {
    "tags": []
   },
   "outputs": [
    {
     "name": "stdin",
     "output_type": "stream",
     "text": [
      "Enter the number 6\n"
     ]
    },
    {
     "name": "stdout",
     "output_type": "stream",
     "text": [
      "Hello\n"
     ]
    }
   ],
   "source": [
    "num = int(input(\"Enter the number\"))\n",
    "\n",
    "if(num>6 or num%2==0):\n",
    "    print(\"Hello\")\n",
    "else:\n",
    "    print(\"Bye\")"
   ]
  },
  {
   "cell_type": "code",
   "execution_count": 15,
   "id": "b6917a47-ad8e-4a2c-8400-7762438f76b8",
   "metadata": {
    "tags": []
   },
   "outputs": [
    {
     "name": "stdout",
     "output_type": "stream",
     "text": [
      "True\n",
      "False\n"
     ]
    }
   ],
   "source": [
    "#not - reverse the result\n",
    "\n",
    "print(not(10<5))\n",
    "print(not(10>5))"
   ]
  },
  {
   "cell_type": "code",
   "execution_count": 16,
   "id": "c0cc7ee3-8121-440b-804a-297d6f585816",
   "metadata": {
    "tags": []
   },
   "outputs": [],
   "source": [
    "#membership operators\n",
    "#in \n",
    "#not in \n",
    "#list#multiple data we can store#hetergenous\n",
    "l = [10,20,30,40,50,60]"
   ]
  },
  {
   "cell_type": "code",
   "execution_count": 17,
   "id": "0caa8363-f181-4f83-9a73-8572d440caec",
   "metadata": {
    "tags": []
   },
   "outputs": [
    {
     "data": {
      "text/plain": [
       "True"
      ]
     },
     "execution_count": 17,
     "metadata": {},
     "output_type": "execute_result"
    }
   ],
   "source": [
    "30 in l"
   ]
  },
  {
   "cell_type": "code",
   "execution_count": 19,
   "id": "4b57201a-a620-44ad-b502-eb765b5376c0",
   "metadata": {
    "tags": []
   },
   "outputs": [
    {
     "data": {
      "text/plain": [
       "False"
      ]
     },
     "execution_count": 19,
     "metadata": {},
     "output_type": "execute_result"
    }
   ],
   "source": [
    "50 not in l"
   ]
  },
  {
   "cell_type": "code",
   "execution_count": 21,
   "id": "11e9ed24-84c2-411f-aba0-aeeae5f583e6",
   "metadata": {
    "tags": []
   },
   "outputs": [
    {
     "data": {
      "text/plain": [
       "True"
      ]
     },
     "execution_count": 21,
     "metadata": {},
     "output_type": "execute_result"
    }
   ],
   "source": [
    "70 not in l"
   ]
  },
  {
   "cell_type": "code",
   "execution_count": 22,
   "id": "399af326-fd27-43c5-81ec-b50cedf02d6d",
   "metadata": {
    "tags": []
   },
   "outputs": [],
   "source": [
    "#identity operators\n",
    "#is\n",
    "#is not"
   ]
  },
  {
   "cell_type": "code",
   "execution_count": 23,
   "id": "c910f5fc-ecf7-4e47-b0d8-1871b385a75f",
   "metadata": {
    "tags": []
   },
   "outputs": [],
   "source": [
    "a = 10"
   ]
  },
  {
   "cell_type": "code",
   "execution_count": 24,
   "id": "bf68976f-833f-496e-a368-b9ce2dd30bdd",
   "metadata": {
    "tags": []
   },
   "outputs": [
    {
     "data": {
      "text/plain": [
       "140720513717320"
      ]
     },
     "execution_count": 24,
     "metadata": {},
     "output_type": "execute_result"
    }
   ],
   "source": [
    "#address memory(location)\n",
    "id(a)"
   ]
  },
  {
   "cell_type": "code",
   "execution_count": 26,
   "id": "2560884d-9ef1-45ef-8ed6-839c01fdacec",
   "metadata": {
    "tags": []
   },
   "outputs": [
    {
     "data": {
      "text/plain": [
       "140720513717640"
      ]
     },
     "execution_count": 26,
     "metadata": {},
     "output_type": "execute_result"
    }
   ],
   "source": [
    "b = 20\n",
    "id(b)"
   ]
  },
  {
   "cell_type": "code",
   "execution_count": 28,
   "id": "f548c30d-8a42-45c3-8cc9-4331c1a83b48",
   "metadata": {
    "tags": []
   },
   "outputs": [
    {
     "data": {
      "text/plain": [
       "False"
      ]
     },
     "execution_count": 28,
     "metadata": {},
     "output_type": "execute_result"
    }
   ],
   "source": [
    "a is b\n",
    "#a and b objects are same"
   ]
  },
  {
   "cell_type": "code",
   "execution_count": 30,
   "id": "d3e6264f-3f90-4f2c-9690-b3c671777adc",
   "metadata": {
    "tags": []
   },
   "outputs": [
    {
     "data": {
      "text/plain": [
       "True"
      ]
     },
     "execution_count": 30,
     "metadata": {},
     "output_type": "execute_result"
    }
   ],
   "source": [
    "a is not b"
   ]
  },
  {
   "cell_type": "code",
   "execution_count": 31,
   "id": "3ed9b579-6289-4888-8e7f-d4e7762e4d9b",
   "metadata": {
    "tags": []
   },
   "outputs": [
    {
     "name": "stdout",
     "output_type": "stream",
     "text": [
      "Pass\n"
     ]
    }
   ],
   "source": [
    "marks = 50\n",
    "if(marks>30):\n",
    "    print(\"Pass\")"
   ]
  },
  {
   "cell_type": "code",
   "execution_count": 34,
   "id": "03f82249-6fdb-4b3b-9e58-c227802c02c5",
   "metadata": {
    "tags": []
   },
   "outputs": [
    {
     "data": {
      "text/plain": [
       "140720513718600"
      ]
     },
     "execution_count": 34,
     "metadata": {},
     "output_type": "execute_result"
    }
   ],
   "source": [
    "id(marks)"
   ]
  },
  {
   "cell_type": "code",
   "execution_count": 35,
   "id": "5d7af3ca-67fb-48aa-8d5b-e324e3a386de",
   "metadata": {
    "tags": []
   },
   "outputs": [],
   "source": [
    "#value compare\n",
    "#object compare#memory location"
   ]
  },
  {
   "cell_type": "code",
   "execution_count": 36,
   "id": "8b7adfda-2e65-4a1e-9125-8eab3d0b48f6",
   "metadata": {
    "tags": []
   },
   "outputs": [],
   "source": [
    "a = 10"
   ]
  },
  {
   "cell_type": "code",
   "execution_count": 37,
   "id": "061dea96-4ebb-41d4-b535-da28168d3332",
   "metadata": {
    "tags": []
   },
   "outputs": [],
   "source": [
    "b = 10"
   ]
  },
  {
   "cell_type": "code",
   "execution_count": 38,
   "id": "bb4c5e12-31c0-48cc-9726-09ef7a4dcb8a",
   "metadata": {
    "tags": []
   },
   "outputs": [
    {
     "data": {
      "text/plain": [
       "True"
      ]
     },
     "execution_count": 38,
     "metadata": {},
     "output_type": "execute_result"
    }
   ],
   "source": [
    "#value compare\n",
    "a==b"
   ]
  },
  {
   "cell_type": "code",
   "execution_count": 40,
   "id": "2144b987-78a9-4de5-a988-a500b5da76e4",
   "metadata": {
    "tags": []
   },
   "outputs": [
    {
     "data": {
      "text/plain": [
       "True"
      ]
     },
     "execution_count": 40,
     "metadata": {},
     "output_type": "execute_result"
    }
   ],
   "source": [
    "#comparison of memory location \n",
    "a is b"
   ]
  },
  {
   "cell_type": "code",
   "execution_count": 41,
   "id": "3ad98bd6-6c57-487f-bd58-cc29d14e91be",
   "metadata": {
    "tags": []
   },
   "outputs": [
    {
     "data": {
      "text/plain": [
       "140720513717320"
      ]
     },
     "execution_count": 41,
     "metadata": {},
     "output_type": "execute_result"
    }
   ],
   "source": [
    "id(a)"
   ]
  },
  {
   "cell_type": "code",
   "execution_count": 43,
   "id": "92d1191b-3de9-409c-8175-44a7c43cb938",
   "metadata": {
    "tags": []
   },
   "outputs": [
    {
     "data": {
      "text/plain": [
       "140720513717320"
      ]
     },
     "execution_count": 43,
     "metadata": {},
     "output_type": "execute_result"
    }
   ],
   "source": [
    "id(b)"
   ]
  },
  {
   "cell_type": "code",
   "execution_count": 44,
   "id": "a224416c-d6c2-4fd9-857f-9e7576acb93d",
   "metadata": {
    "tags": []
   },
   "outputs": [],
   "source": [
    "#bitwise\n",
    "#bits \n",
    "#1byte\n",
    "#8 bits\n",
    "#0 or 1"
   ]
  },
  {
   "cell_type": "code",
   "execution_count": 47,
   "id": "6cce365a-e807-42c9-ade2-e20f6430d795",
   "metadata": {
    "tags": []
   },
   "outputs": [
    {
     "name": "stdout",
     "output_type": "stream",
     "text": [
      "0\n",
      "0\n",
      "0\n",
      "1\n"
     ]
    }
   ],
   "source": [
    "#&\n",
    "print(0&1)#0\n",
    "print(1&0)#0\n",
    "print(0&0)#0\n",
    "print(1&1)#1"
   ]
  },
  {
   "cell_type": "code",
   "execution_count": 49,
   "id": "4b4852e3-99e5-437b-a383-b21028c8c562",
   "metadata": {
    "tags": []
   },
   "outputs": [
    {
     "name": "stdout",
     "output_type": "stream",
     "text": [
      "1\n",
      "0\n",
      "1\n",
      "1\n"
     ]
    }
   ],
   "source": [
    "#|\n",
    "print(0|1)#1\n",
    "print(0|0)#0\n",
    "print(1|0)#1\n",
    "print(1|1)#1"
   ]
  },
  {
   "cell_type": "code",
   "execution_count": 50,
   "id": "8a652915-73da-45bd-bd14-bef0471c37e9",
   "metadata": {
    "tags": []
   },
   "outputs": [],
   "source": [
    "#right shift and left shift"
   ]
  },
  {
   "cell_type": "code",
   "execution_count": 51,
   "id": "2c707c1e-b641-4fcf-9069-b7b222ae3542",
   "metadata": {
    "tags": []
   },
   "outputs": [],
   "source": [
    "#32 decimal \n",
    "#convert it to binary representation\n",
    "#"
   ]
  },
  {
   "cell_type": "code",
   "execution_count": 56,
   "id": "3523ed78-d1d6-484b-a35f-25aaa2d8ad1f",
   "metadata": {
    "tags": []
   },
   "outputs": [
    {
     "name": "stdout",
     "output_type": "stream",
     "text": [
      "Prabhjot\n",
      "Prabhjot\n",
      "Prabhjot\n",
      "Prabhjot\n",
      "Prabhjot\n",
      "Prabhjot\n",
      "Prabhjot\n"
     ]
    }
   ],
   "source": [
    "print(\"Prabhjot\")\n",
    "print(\"Prabhjot\")\n",
    "print(\"Prabhjot\")\n",
    "print(\"Prabhjot\")\n",
    "print(\"Prabhjot\")\n",
    "print(\"Prabhjot\")\n",
    "print(\"Prabhjot\")\n",
    "#feasible\n",
    "#repetive manner"
   ]
  },
  {
   "cell_type": "code",
   "execution_count": 57,
   "id": "97e8f80e-3056-472d-913e-35d1e75e9a72",
   "metadata": {
    "tags": []
   },
   "outputs": [],
   "source": [
    "#loops\n",
    "#for and while loops\n",
    "#for- procedure for a small range\n",
    "#while - procedure for a large range "
   ]
  },
  {
   "cell_type": "code",
   "execution_count": 58,
   "id": "d140b144-1f80-4fca-96b9-4721e12c99c5",
   "metadata": {
    "tags": []
   },
   "outputs": [],
   "source": [
    "#initialization#condition#increment/decrement\n",
    "#i=1\n",
    "#i<10\n",
    "#i=i+1"
   ]
  },
  {
   "cell_type": "code",
   "execution_count": 63,
   "id": "723737fe-7eb3-4b4d-8f13-6e6d069a73d4",
   "metadata": {
    "tags": []
   },
   "outputs": [
    {
     "name": "stdout",
     "output_type": "stream",
     "text": [
      "Prabhjot\n",
      "Prabhjot\n",
      "Prabhjot\n",
      "Prabhjot\n",
      "Prabhjot\n",
      "Prabhjot\n",
      "Prabhjot\n",
      "Prabhjot\n",
      "Prabhjot\n",
      "Prabhjot\n"
     ]
    }
   ],
   "source": [
    "#to define a particular range we use range function\n",
    "#range(start,stop,step)\n",
    "for i in range(1,11,1):\n",
    "    print(\"Prabhjot\")"
   ]
  },
  {
   "cell_type": "code",
   "execution_count": 69,
   "id": "719ba84e-8192-4449-8234-5ba5934e16c0",
   "metadata": {
    "tags": []
   },
   "outputs": [
    {
     "name": "stdout",
     "output_type": "stream",
     "text": [
      "Prabhjot\n",
      "Prabhjot\n",
      "Prabhjot\n",
      "Prabhjot\n",
      "Prabhjot\n"
     ]
    }
   ],
   "source": [
    "#while\n",
    "i=1\n",
    "while(i<=10):\n",
    "    print(\"Prabhjot\")\n",
    "    i=i+2"
   ]
  },
  {
   "cell_type": "code",
   "execution_count": 72,
   "id": "7e702323-2038-49dd-b190-59a26f314f59",
   "metadata": {
    "tags": []
   },
   "outputs": [
    {
     "name": "stdout",
     "output_type": "stream",
     "text": [
      "2\n",
      "4\n",
      "6\n",
      "8\n"
     ]
    }
   ],
   "source": [
    "for i in range(1,10,1):\n",
    "    if(i%2==0):\n",
    "        print(i)"
   ]
  },
  {
   "cell_type": "code",
   "execution_count": 77,
   "id": "620c9fee-f59d-43e2-9055-a536441a51cd",
   "metadata": {
    "tags": []
   },
   "outputs": [
    {
     "name": "stdout",
     "output_type": "stream",
     "text": [
      "2,4,6,8,"
     ]
    }
   ],
   "source": [
    "for i in range(1,10,1):\n",
    "    if(i%2==0):\n",
    "        print(i,end=\",\")"
   ]
  },
  {
   "cell_type": "code",
   "execution_count": 80,
   "id": "279d9e73-4e8f-4984-ae5c-d0571c31e3ab",
   "metadata": {
    "tags": []
   },
   "outputs": [
    {
     "name": "stdout",
     "output_type": "stream",
     "text": [
      "1 odd\n",
      "2 even\n",
      "3 odd\n",
      "4 even\n",
      "5 odd\n",
      "6 even\n",
      "7 odd\n",
      "8 even\n",
      "9 odd\n"
     ]
    }
   ],
   "source": [
    "#two conditions\n",
    "for i in range(1,10,1):\n",
    "    if(i%2==0):\n",
    "        print(i,\"even\")\n",
    "    else:\n",
    "        print(i,\"odd\")"
   ]
  },
  {
   "cell_type": "code",
   "execution_count": 84,
   "id": "2bb1db46-6e1d-4979-8c62-7c1ef6575370",
   "metadata": {
    "tags": []
   },
   "outputs": [
    {
     "name": "stdin",
     "output_type": "stream",
     "text": [
      "Enter the Number 10\n"
     ]
    },
    {
     "name": "stdout",
     "output_type": "stream",
     "text": [
      "postive\n"
     ]
    }
   ],
   "source": [
    "#more than two conditions\n",
    "#elif\n",
    "\n",
    "#number is postive,negative or zero\n",
    "num = int(input(\"Enter the Number\"))\n",
    "if(num>0):\n",
    "    print(\"postive\")\n",
    "elif(num<0):\n",
    "    print(\"negative\")\n",
    "else:\n",
    "    print(\"zero\")"
   ]
  },
  {
   "cell_type": "code",
   "execution_count": 85,
   "id": "c0f83091-5d40-49d1-ba8b-346a64b11ef3",
   "metadata": {
    "tags": []
   },
   "outputs": [],
   "source": [
    "#loops control\n",
    "#while\n",
    "#control statements\n",
    "#break,continue,pass\n",
    "#decimal to binary conversation\n",
    "#datatypes\n",
    "#list,tuple,dictionary,and set"
   ]
  },
  {
   "cell_type": "code",
   "execution_count": null,
   "id": "2bd33435-8309-47a6-ae18-82d8b75fa779",
   "metadata": {},
   "outputs": [],
   "source": []
  }
 ],
 "metadata": {
  "kernelspec": {
   "display_name": "Python 3 (ipykernel)",
   "language": "python",
   "name": "python3"
  },
  "language_info": {
   "codemirror_mode": {
    "name": "ipython",
    "version": 3
   },
   "file_extension": ".py",
   "mimetype": "text/x-python",
   "name": "python",
   "nbconvert_exporter": "python",
   "pygments_lexer": "ipython3",
   "version": "3.11.4"
  }
 },
 "nbformat": 4,
 "nbformat_minor": 5
}
